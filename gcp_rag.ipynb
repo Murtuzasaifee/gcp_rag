{
  "cells": [
    {
      "cell_type": "markdown",
      "id": "Su9UaTllPPyT",
      "metadata": {
        "id": "Su9UaTllPPyT"
      },
      "source": [
        "## Install Vertex AI SDK for Python"
      ]
    },
    {
      "cell_type": "code",
      "execution_count": null,
      "id": "bb56a208",
      "metadata": {},
      "outputs": [],
      "source": [
        "## load env variables\n",
        "import os\n",
        "from dotenv import load_dotenv\n",
        "load_dotenv()\n",
        "\n",
        "PROJECT_ID=os.getenv(\"PROJECT_ID\")\n",
        "LOCATION=os.getenv(\"LOCATION\")\n",
        "ASTRA_DB_API_ENDPOINT=os.getenv(\"ASTRA_DB_API_ENDPOINT\")\n",
        "ASTRA_DB_APPLICATION_TOKEN=os.getenv(\"ASTRA_DB_APPLICATION_TOKEN\")"
      ]
    },
    {
      "cell_type": "code",
      "execution_count": null,
      "id": "lKXWCbjHydhC",
      "metadata": {
        "colab": {
          "base_uri": "https://localhost:8080/"
        },
        "id": "lKXWCbjHydhC",
        "outputId": "905caba2-d28d-4cdb-cd20-2d4fa57263ec"
      },
      "outputs": [],
      "source": [
        "import getpass, os, requests\n",
        "\n",
        "if \"GCP_PROJECT_ID\" not in os.environ:\n",
        "  os.environ[\"GCP_PROJECT_ID\"] = getpass.getpass(\"Provide your GCP Project ID\")\n",
        "\n",
        "if \"LOCATION\" not in os.environ:\n",
        "  os.environ[\"LOCATION\"] = getpass.getpass(\"Provide your GCP Location\")\n",
        "\n",
        "if \"ASTRA_DB_ENDPOINT\" not in os.environ:\n",
        "  os.environ[\"ASTRA_DB_ENDPOINT\"] = getpass.getpass(\"Provide your Astra DB Endpoint\")\n",
        "\n",
        "if \"ASTRA_DB_TOKEN\" not in os.environ:\n",
        "  os.environ[\"ASTRA_DB_TOKEN\"] = getpass.getpass(\"Provide your Astra DB Token\")"
      ]
    },
    {
      "cell_type": "code",
      "execution_count": null,
      "id": "G1MCN16ZRFR3",
      "metadata": {
        "id": "G1MCN16ZRFR3"
      },
      "outputs": [],
      "source": [
        "# Initialize Vertex AI\n",
        "import vertexai\n",
        "\n",
        "vertexai.init(project=PROJECT_ID, location=LOCATION)"
      ]
    },
    {
      "cell_type": "markdown",
      "id": "KOBAtIV3R8mY",
      "metadata": {
        "id": "KOBAtIV3R8mY"
      },
      "source": [
        "## Import libraries"
      ]
    },
    {
      "cell_type": "code",
      "execution_count": null,
      "id": "lXlozq1mQThR",
      "metadata": {
        "id": "lXlozq1mQThR"
      },
      "outputs": [],
      "source": [
        "from vertexai.preview.generative_models import (\n",
        "    GenerationConfig,\n",
        "    GenerativeModel,\n",
        "    HarmCategory,\n",
        "    HarmBlockThreshold,\n",
        "    Image,\n",
        "    Part\n",
        ")"
      ]
    },
    {
      "cell_type": "markdown",
      "id": "Pyza6kJuSCg_",
      "metadata": {
        "id": "Pyza6kJuSCg_"
      },
      "source": [
        "## Use the Gemini 1.0 Pro model\n",
        "\n",
        "The Gemini 1.0 Pro (`gemini-1.0-pro`) model is designed to handle natural language tasks, multi-turn text and code chat, and code generation.\n"
      ]
    },
    {
      "cell_type": "markdown",
      "id": "teZPcNCISLkQ",
      "metadata": {
        "id": "teZPcNCISLkQ"
      },
      "source": [
        "## Load the Gemini 1.0 Pro model"
      ]
    },
    {
      "cell_type": "code",
      "execution_count": null,
      "id": "kUB8nEGhQXMH",
      "metadata": {
        "id": "kUB8nEGhQXMH"
      },
      "outputs": [],
      "source": [
        "model = GenerativeModel(\"gemini-2.0-flash-001\")"
      ]
    },
    {
      "cell_type": "markdown",
      "id": "soDP_1kmSTSn",
      "metadata": {
        "id": "soDP_1kmSTSn"
      },
      "source": [
        "## Generate text from text prompts"
      ]
    },
    {
      "cell_type": "code",
      "execution_count": null,
      "id": "cvWMgCTZntYK",
      "metadata": {
        "id": "cvWMgCTZntYK"
      },
      "outputs": [],
      "source": [
        "responses = model.generate_content(\"Why is the sky blue?\", stream=True)"
      ]
    },
    {
      "cell_type": "code",
      "execution_count": null,
      "id": "xuwrxROoSESn",
      "metadata": {
        "colab": {
          "base_uri": "https://localhost:8080/"
        },
        "id": "xuwrxROoSESn",
        "outputId": "ab4d952b-30de-4580-d22d-39f100c9d49d"
      },
      "outputs": [],
      "source": [
        "for response in responses:\n",
        "    print(response.text, end=\"\")"
      ]
    },
    {
      "cell_type": "code",
      "execution_count": null,
      "id": "yYfeGQzMn0E4",
      "metadata": {
        "id": "yYfeGQzMn0E4"
      },
      "outputs": [],
      "source": [
        "prompt = \"\"\"Create a numbered list of 10 items. Each item in the list should be a trend in the tech industry.\n",
        "\n",
        "Each trend should be less than 5 words.\"\"\"  # try your own prompt\n"
      ]
    },
    {
      "cell_type": "code",
      "execution_count": null,
      "id": "F2FOUPIfn4jp",
      "metadata": {
        "id": "F2FOUPIfn4jp"
      },
      "outputs": [],
      "source": [
        "responses = model.generate_content(prompt, stream=True)"
      ]
    },
    {
      "cell_type": "code",
      "execution_count": null,
      "id": "yhtHW2wySENe",
      "metadata": {
        "colab": {
          "base_uri": "https://localhost:8080/"
        },
        "id": "yhtHW2wySENe",
        "outputId": "c5a76690-6721-49f3-fa70-517231969b1b"
      },
      "outputs": [],
      "source": [
        "for response in responses:\n",
        "    print(response.text, end=\"\")"
      ]
    },
    {
      "cell_type": "markdown",
      "id": "lmoUexYKTFmj",
      "metadata": {
        "id": "lmoUexYKTFmj"
      },
      "source": [
        "## Model parameters\n",
        "\n",
        "Every prompt you send to the model includes parameter values that control how the model generates a response. The model can generate different results for different parameter values. You can experiment with different model parameters to see how the results change."
      ]
    },
    {
      "cell_type": "code",
      "execution_count": null,
      "id": "-96LHeIVoDVw",
      "metadata": {
        "id": "-96LHeIVoDVw"
      },
      "outputs": [],
      "source": [
        "generation_config = GenerationConfig(\n",
        "    temperature=0.9,\n",
        "    top_p=1.0,\n",
        "    top_k=32,\n",
        "    candidate_count=1,\n",
        "    max_output_tokens=8192,\n",
        ")\n"
      ]
    },
    {
      "cell_type": "code",
      "execution_count": null,
      "id": "9CyRucFooHMH",
      "metadata": {
        "id": "9CyRucFooHMH"
      },
      "outputs": [],
      "source": [
        "responses = model.generate_content(\n",
        "    \"Why is the sky blue?\",\n",
        "    generation_config=generation_config,\n",
        "    stream=True,\n",
        ")\n"
      ]
    },
    {
      "cell_type": "code",
      "execution_count": null,
      "id": "q4C71eAFSEK3",
      "metadata": {
        "colab": {
          "base_uri": "https://localhost:8080/"
        },
        "id": "q4C71eAFSEK3",
        "outputId": "45a63a4b-0295-4e87-e1fe-fd8b824ae794"
      },
      "outputs": [],
      "source": [
        "for response in responses:\n",
        "    print(response.text, end=\"\")"
      ]
    },
    {
      "cell_type": "code",
      "execution_count": null,
      "id": "UxflQ0mWoZcu",
      "metadata": {
        "id": "UxflQ0mWoZcu"
      },
      "outputs": [],
      "source": [
        "source_img_data = requests.get('https://drive.google.com/uc?export=view&id=15ddcn-AIxpvRdWcFGvIr77XLWdo4Maof').content"
      ]
    },
    {
      "cell_type": "code",
      "execution_count": null,
      "id": "G2SNnO7JYtlu",
      "metadata": {
        "id": "G2SNnO7JYtlu"
      },
      "outputs": [],
      "source": [
        "with open('coffee_maker_part.png', 'wb') as handler:\n",
        "  handler.write(source_img_data)"
      ]
    },
    {
      "cell_type": "code",
      "execution_count": null,
      "id": "lYAFQWLFurTf",
      "metadata": {
        "id": "lYAFQWLFurTf"
      },
      "outputs": [],
      "source": [
        "from langchain_google_vertexai import ChatVertexAI"
      ]
    },
    {
      "cell_type": "code",
      "execution_count": null,
      "id": "h4_Cd_QP13jh",
      "metadata": {
        "id": "h4_Cd_QP13jh"
      },
      "outputs": [],
      "source": [
        "from langchain.schema.messages import HumanMessage\n",
        "from PIL import Image, ImageFile\n",
        "import os, sys\n",
        "\n"
      ]
    },
    {
      "cell_type": "code",
      "execution_count": null,
      "id": "Q5-GXhql2amH",
      "metadata": {
        "id": "Q5-GXhql2amH"
      },
      "outputs": [],
      "source": [
        "# Initialize ChatVertexAI with explicit project and location\n",
        "from langchain_google_vertexai import ChatVertexAI\n",
        "chat = ChatVertexAI(model_name=\"gemini-2.0-flash-001\", project=PROJECT_ID, location=LOCATION)"
      ]
    },
    {
      "cell_type": "code",
      "execution_count": null,
      "id": "-5a4W_Os2iUo",
      "metadata": {
        "id": "-5a4W_Os2iUo"
      },
      "outputs": [],
      "source": [
        "image_message = {\n",
        "    \"type\": \"image_url\",\n",
        "    \"image_url\": {\"url\": \"https://i.postimg.cc/nh0VYtD8/coffee-maker-part.png\"},  ## make sure to use the google b64 link, local image link not supported\n",
        "}\n",
        "text_message = {\n",
        "    \"type\": \"text\",\n",
        "    \"text\": \"What is this image? Share a link to purchase a replacement\",\n",
        "}"
      ]
    },
    {
      "cell_type": "code",
      "execution_count": null,
      "id": "d3_y9HUppFS3",
      "metadata": {
        "id": "d3_y9HUppFS3"
      },
      "outputs": [],
      "source": [
        "message = HumanMessage(content=[text_message, image_message])"
      ]
    },
    {
      "cell_type": "code",
      "execution_count": null,
      "id": "RO10SiFzpLX5",
      "metadata": {
        "colab": {
          "base_uri": "https://localhost:8080/"
        },
        "id": "RO10SiFzpLX5",
        "outputId": "3511a70a-b492-45d2-9bb4-b3af6e2dd1bd"
      },
      "outputs": [],
      "source": [
        "output = chat([message])"
      ]
    },
    {
      "cell_type": "code",
      "execution_count": null,
      "id": "8i96veBrYwim",
      "metadata": {
        "colab": {
          "base_uri": "https://localhost:8080/"
        },
        "id": "8i96veBrYwim",
        "outputId": "6750597f-4d75-43ab-cc3f-fcb91a53e020"
      },
      "outputs": [],
      "source": [
        "print(output.content)"
      ]
    },
    {
      "cell_type": "code",
      "execution_count": null,
      "id": "s0kOfknRY20q",
      "metadata": {
        "colab": {
          "base_uri": "https://localhost:8080/",
          "height": 520
        },
        "id": "s0kOfknRY20q",
        "outputId": "c5504a10-e63c-4f53-edf0-99a20cb5cbf1"
      },
      "outputs": [],
      "source": [
        "import pandas as pd\n",
        "\n",
        "d = {'name': [\"Saucer\", \"Saucer Ceramic\", \"Milk Jug Assembly\", \"Handle Steam Wand Kit (New Version From 0735 PDC)\", \"Spout Juice Small (From 0637 to 1041 PDC)\", \"Cleaning Steam Wand\", \"Jug Frothing\", \"Spoon Tamping 50mm\", \"Collar Grouphead 50mm\", \"Filter 2 Cup Dual Wall 50mm\", \"Filter 1 Cup 50mm\", \"Water Tank Assembly\", \"Portafilter Assembly 50mm\", \"Milk Jug Assembly\", \"Filter 2 Cup 50mm\" ],\n",
        "     'url': [\"https://www.breville.com/us/en/parts-accessories/parts/sp0014946.html?sku=SP0014946\", \"https://www.breville.com/us/en/parts-accessories/parts/sp0014914.html?sku=SP0014914\", \"https://www.breville.com/us/en/parts-accessories/parts/sp0011391.html?sku=SP0011391\", \"https://www.breville.com/us/en/parts-accessories/parts/sp0010719.html?sku=SP0010719\", \"https://www.breville.com/us/en/parts-accessories/parts/sp0010718.html?sku=SP0010718\", \"https://www.breville.com/us/en/parts-accessories/parts/sp0003247.html?sku=SP0003247\", \"https://www.breville.com/us/en/parts-accessories/parts/sp0003246.html?sku=SP0003246\", \"https://www.breville.com/us/en/parts-accessories/parts/sp0003243.html?sku=SP0003243\", \"https://www.breville.com/us/en/parts-accessories/parts/sp0003232.html?sku=SP0003232\", \"https://www.breville.com/us/en/parts-accessories/parts/sp0003231.html?sku=SP0003231\", \"https://www.breville.com/us/en/parts-accessories/parts/sp0003230.html?sku=SP0003230\", \"https://www.breville.com/us/en/parts-accessories/parts/sp0003225.html?sku=SP0003225\", \"https://www.breville.com/us/en/parts-accessories/parts/sp0003216.html?sku=SP0003216\", \"https://www.breville.com/us/en/parts-accessories/parts/sp0001875.html?sku=SP0001875\", \"https://www.breville.com/us/en/parts-accessories/parts/sp0000166.html?sku=SP0000166\"],\n",
        "     'price': [\"10.95\", \"4.99\", \"14.95\", \"8.95\", \"10.95\", \"6.95\", \"24.95\", \"8.95\", \"6.95\", \"12.95\", \"12.95\", \"14.95\", \"10.95\", \"16.95\", \"11.95\"],\n",
        "     'image': [\"https://www.breville.com/content/dam/breville/us/catalog/products/images/sp0/sp0014946/tile.jpg\", \"https://www.breville.com/content/dam/breville/us/catalog/products/images/sp0/sp0014914/tile.jpg\", \"https://www.breville.com/content/dam/breville/us/catalog/products/images/sp0/sp0011391/tile.jpg\", \"https://www.breville.com/content/dam/breville/ca/catalog/products/images/sp0/sp0010719/tile.jpg\", \"https://www.breville.com/content/dam/breville/ca/catalog/products/images/sp0/sp0010718/tile.jpg\", \"https://www.breville.com/content/dam/breville/ca/catalog/products/images/sp0/sp0003247/tile.jpg\", \"https://assets.breville.com/cdn-cgi/image/width=400,format=auto/Spare+Parts+/Espresso+Machines/BES250/SP0003246/SP0003246_IMAGE1_400X400.jpg\", \"https://assets.breville.com/cdn-cgi/image/width=400,format=auto/Spare+Parts+/Espresso+Machines/ESP8/SP0003243/SP0003243_IMAGE1_400X400.jpg\", \"https://assets.breville.com/cdn-cgi/image/width=400,format=auto/Spare+Parts+/Espresso+Machines/ESP8/SP0003232/SP0003232_IMAGE1_400x400.jpg\", \"https://www.breville.com/content/dam/breville/au/catalog/products/images/sp0/sp0003231/tile.jpg\", \"https://www.breville.com/content/dam/breville/au/catalog/products/images/sp0/sp0003230/tile.jpg\", \"https://www.breville.com/content/dam/breville/ca/catalog/products/images/sp0/sp0003225/tile.jpg\", \"https://www.breville.com/content/dam/breville/ca/catalog/products/images/sp0/sp0003216/tile.jpg\", \"https://www.breville.com/content/dam/breville/au/catalog/products/images/sp0/sp0001875/tile.jpg\", \"https://www.breville.com/content/dam/breville/us/catalog/products/images/sp0/sp0000166/tile.jpg\"]}\n",
        "df = pd.DataFrame(data=d)\n",
        "df"
      ]
    },
    {
      "cell_type": "code",
      "execution_count": null,
      "id": "2fcMmT6x2_Fu",
      "metadata": {
        "colab": {
          "base_uri": "https://localhost:8080/"
        },
        "id": "2fcMmT6x2_Fu",
        "outputId": "41454230-08d8-48f5-a7b3-f4ca4c9e7220"
      },
      "outputs": [],
      "source": [
        "import vertexai, json, requests\n",
        "from vertexai.preview.vision_models import MultiModalEmbeddingModel, Image\n",
        "from astrapy.db import AstraDB, AstraDBCollection"
      ]
    },
    {
      "cell_type": "code",
      "execution_count": null,
      "id": "c5RNXJmb3BVw",
      "metadata": {
        "id": "c5RNXJmb3BVw"
      },
      "outputs": [],
      "source": [
        "vertexai.init(project=PROJECT_ID, location=LOCATION)\n",
        "model = MultiModalEmbeddingModel.from_pretrained(\"multimodalembedding@001\")"
      ]
    },
    {
      "cell_type": "code",
      "execution_count": null,
      "id": "MmAw9Z8D3EYM",
      "metadata": {
        "id": "MmAw9Z8D3EYM"
      },
      "outputs": [],
      "source": [
        "# Initialize our vector db\n",
        "astra_db = AstraDB(token=ASTRA_DB_APPLICATION_TOKEN, api_endpoint= ASTRA_DB_API_ENDPOINT)"
      ]
    },
    {
      "cell_type": "code",
      "execution_count": null,
      "id": "rGf8tmF23Gxc",
      "metadata": {
        "id": "rGf8tmF23Gxc"
      },
      "outputs": [],
      "source": [
        "collection = astra_db.create_collection(collection_name=\"coffee_shop_ecommerce\", dimension=1408)"
      ]
    },
    {
      "cell_type": "code",
      "execution_count": null,
      "id": "Qc2D1qqvY6Jy",
      "metadata": {
        "id": "Qc2D1qqvY6Jy"
      },
      "outputs": [],
      "source": [
        "for i in range(len(df)):\n",
        "  name = df.loc[i, \"name\"]\n",
        "  image = df.loc[i, \"image\"]\n",
        "  price = df.loc[i, \"price\"]\n",
        "  url = df.loc[i, \"url\"]\n",
        "\n",
        "  # Download this product's image and save it to the Colab filesystem.\n",
        "  # In a production system this binary data would be stored in Google Cloud Storage\n",
        "  img_data = requests.get(image).content\n",
        "  with open(f'{name}.png', 'wb') as handler:\n",
        "    handler.write(img_data)\n",
        "\n",
        "  # load the image from filesystem and compute the embedding value\n",
        "  img = Image.load_from_file(f'{name}.png')\n",
        "  embeddings = model.get_embeddings(image=img, contextual_text=name)\n",
        "\n",
        "  try:\n",
        "    # add to the AstraDB Vector Database\n",
        "    collection.insert_one({\n",
        "        \"_id\": i,\n",
        "        \"name\": name,\n",
        "        \"image\": image,\n",
        "        \"url\": url,\n",
        "        \"price\": price,\n",
        "        \"$vector\": embeddings.image_embedding,\n",
        "      })\n",
        "  except Exception as error:\n",
        "    # if you've already added this record, skip the error message\n",
        "    error_info = json.loads(str(error))\n",
        "    if error_info[0]['errorCode'] == \"DOCUMENT_ALREADY_EXISTS\":\n",
        "      print(\"Document already exists in the database.  Skipping.\")"
      ]
    },
    {
      "cell_type": "code",
      "execution_count": null,
      "id": "A8OALWDt4alj",
      "metadata": {
        "id": "A8OALWDt4alj"
      },
      "outputs": [],
      "source": [
        "import json\n",
        "\n",
        "# Embed the similar item\n",
        "img = Image.load_from_file('coffee_maker_part.png')"
      ]
    },
    {
      "cell_type": "code",
      "execution_count": null,
      "id": "FYEBo0rO3uV9",
      "metadata": {
        "id": "FYEBo0rO3uV9"
      },
      "outputs": [],
      "source": [
        "embeddings = model.get_embeddings(image=img, contextual_text=\"A espresso machine part\")"
      ]
    },
    {
      "cell_type": "code",
      "execution_count": null,
      "id": "GfTqY9MKouR_",
      "metadata": {
        "colab": {
          "base_uri": "https://localhost:8080/"
        },
        "id": "GfTqY9MKouR_",
        "outputId": "585782eb-7176-4e25-9785-ad0e29f8d20f"
      },
      "outputs": [],
      "source": [
        "embeddings.image_embedding"
      ]
    },
    {
      "cell_type": "code",
      "execution_count": null,
      "id": "UE6SRN1t3wEv",
      "metadata": {
        "id": "UE6SRN1t3wEv"
      },
      "outputs": [],
      "source": [
        "# Perform the vector search against AstraDB Vector\n",
        "documents = collection.vector_find(\n",
        "    embeddings.image_embedding,\n",
        "    limit=3,\n",
        ")"
      ]
    },
    {
      "cell_type": "code",
      "execution_count": null,
      "id": "5rhq7QNQrM-f",
      "metadata": {
        "colab": {
          "base_uri": "https://localhost:8080/"
        },
        "id": "5rhq7QNQrM-f",
        "outputId": "fe060b2a-8c1a-4129-9f3d-6bb9943afa9d"
      },
      "outputs": [],
      "source": [
        "documents"
      ]
    },
    {
      "cell_type": "code",
      "execution_count": null,
      "id": "4eTwAQKH3yD6",
      "metadata": {
        "id": "4eTwAQKH3yD6"
      },
      "outputs": [],
      "source": [
        "related_products_csv = \"name, image, price, url\\n\"\n",
        "for doc in documents:\n",
        "  related_products_csv += f\"{doc['name']}, {doc['image']}, {doc['price']}, {doc['url']},\\n\""
      ]
    },
    {
      "cell_type": "code",
      "execution_count": null,
      "id": "T-A4o7wIrmTj",
      "metadata": {
        "colab": {
          "base_uri": "https://localhost:8080/"
        },
        "id": "T-A4o7wIrmTj",
        "outputId": "c7a7b0bd-883d-4406-91ec-dc5d3ddc7b6b"
      },
      "outputs": [],
      "source": [
        "print(related_products_csv)"
      ]
    },
    {
      "cell_type": "code",
      "execution_count": null,
      "id": "Li-fX8pz30kz",
      "metadata": {
        "id": "Li-fX8pz30kz"
      },
      "outputs": [],
      "source": [
        "image_message = {\n",
        "    \"type\": \"image_url\",\n",
        "    \"image_url\": {\"url\": \"https://i.postimg.cc/nh0VYtD8/coffee-maker-part.png\"}, ## make sure to use the google b64 link, local image link not supported\n",
        "}\n",
        "text_message = {\n",
        "    \"type\": \"text\",\n",
        "    \"text\": f\"What we have in this image? Share the URL and price to purchase a replacement. Here are related products {related_products_csv}\",\n",
        "}"
      ]
    },
    {
      "cell_type": "code",
      "execution_count": null,
      "id": "57KzUhbd4B2e",
      "metadata": {
        "id": "57KzUhbd4B2e"
      },
      "outputs": [],
      "source": [
        "message = HumanMessage(content=[text_message, image_message])\n"
      ]
    },
    {
      "cell_type": "code",
      "execution_count": null,
      "id": "Q7_Ktwg7tBTR",
      "metadata": {
        "id": "Q7_Ktwg7tBTR"
      },
      "outputs": [],
      "source": [
        "chat = ChatVertexAI(model_name=\"gemini-2.0-flash-001\")"
      ]
    },
    {
      "cell_type": "code",
      "execution_count": null,
      "id": "opNLdOPw4DTk",
      "metadata": {
        "id": "opNLdOPw4DTk"
      },
      "outputs": [],
      "source": [
        "output = chat([message])"
      ]
    },
    {
      "cell_type": "code",
      "execution_count": null,
      "id": "rUDI6iZyY-yc",
      "metadata": {
        "colab": {
          "base_uri": "https://localhost:8080/"
        },
        "id": "rUDI6iZyY-yc",
        "outputId": "6a8f479d-23a4-4652-ee9f-7032bc03e07a"
      },
      "outputs": [],
      "source": [
        "print(output.content)"
      ]
    },
    {
      "cell_type": "code",
      "execution_count": null,
      "id": "SWqUjjMMWWfH",
      "metadata": {
        "id": "SWqUjjMMWWfH"
      },
      "outputs": [],
      "source": []
    }
  ],
  "metadata": {
    "colab": {
      "provenance": []
    },
    "kernelspec": {
      "display_name": ".venv",
      "language": "python",
      "name": "python3"
    },
    "language_info": {
      "codemirror_mode": {
        "name": "ipython",
        "version": 3
      },
      "file_extension": ".py",
      "mimetype": "text/x-python",
      "name": "python",
      "nbconvert_exporter": "python",
      "pygments_lexer": "ipython3",
      "version": "3.11.8"
    }
  },
  "nbformat": 4,
  "nbformat_minor": 5
}
