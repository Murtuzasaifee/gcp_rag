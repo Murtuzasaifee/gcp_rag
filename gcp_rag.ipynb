{
  "cells": [
    {
      "cell_type": "markdown",
      "id": "Su9UaTllPPyT",
      "metadata": {
        "id": "Su9UaTllPPyT"
      },
      "source": [
        "## Install Vertex AI SDK for Python"
      ]
    },
    {
      "cell_type": "code",
      "execution_count": 4,
      "id": "bb56a208",
      "metadata": {},
      "outputs": [],
      "source": [
        "## load env variables\n",
        "import os\n",
        "from dotenv import load_dotenv\n",
        "load_dotenv()\n",
        "\n",
        "PROJECT_ID=os.getenv(\"PROJECT_ID\")\n",
        "LOCATION=os.getenv(\"LOCATION\")\n",
        "ASTRA_DB_API_ENDPOINT=os.getenv(\"ASTRA_DB_API_ENDPOINT\")\n",
        "ASTRA_DB_APPLICATION_TOKEN=os.getenv(\"ASTRA_DB_APPLICATION_TOKEN\")"
      ]
    },
    {
      "cell_type": "code",
      "execution_count": null,
      "id": "lKXWCbjHydhC",
      "metadata": {
        "colab": {
          "base_uri": "https://localhost:8080/"
        },
        "id": "lKXWCbjHydhC",
        "outputId": "905caba2-d28d-4cdb-cd20-2d4fa57263ec"
      },
      "outputs": [],
      "source": [
        "import getpass, os, requests\n",
        "\n",
        "if \"GCP_PROJECT_ID\" not in os.environ:\n",
        "  os.environ[\"GCP_PROJECT_ID\"] = getpass.getpass(\"Provide your GCP Project ID\")\n",
        "\n",
        "if \"LOCATION\" not in os.environ:\n",
        "  os.environ[\"LOCATION\"] = getpass.getpass(\"Provide your GCP Location\")\n",
        "\n",
        "if \"ASTRA_DB_ENDPOINT\" not in os.environ:\n",
        "  os.environ[\"ASTRA_DB_ENDPOINT\"] = getpass.getpass(\"Provide your Astra DB Endpoint\")\n",
        "\n",
        "if \"ASTRA_DB_TOKEN\" not in os.environ:\n",
        "  os.environ[\"ASTRA_DB_TOKEN\"] = getpass.getpass(\"Provide your Astra DB Token\")"
      ]
    },
    {
      "cell_type": "markdown",
      "id": "mO8cqwwwRIJv",
      "metadata": {
        "id": "mO8cqwwwRIJv"
      },
      "source": [
        "## Authenticate your notebook environment ( Colab only )"
      ]
    },
    {
      "cell_type": "code",
      "execution_count": null,
      "id": "xCh2oo_LYFxf",
      "metadata": {
        "colab": {
          "base_uri": "https://localhost:8080/"
        },
        "id": "xCh2oo_LYFxf",
        "outputId": "8a0ab6aa-b959-4198-eb08-c2675df098e0"
      },
      "outputs": [],
      "source": [
        "!gcloud config set project {os.getenv(\"GCP_PROJECT_ID\")}"
      ]
    },
    {
      "cell_type": "code",
      "execution_count": null,
      "id": "BWflD-lzRFgC",
      "metadata": {
        "id": "BWflD-lzRFgC"
      },
      "outputs": [],
      "source": [
        "import sys\n",
        "\n",
        "# Additional authentication is required for Google Colab\n",
        "if \"google.colab\" in sys.modules:\n",
        "    # Authenticate user to Google Cloud\n",
        "    from google.colab import auth\n",
        "\n",
        "    auth.authenticate_user()"
      ]
    },
    {
      "cell_type": "code",
      "execution_count": null,
      "id": "MpyaRy-JXqYx",
      "metadata": {
        "colab": {
          "base_uri": "https://localhost:8080/"
        },
        "id": "MpyaRy-JXqYx",
        "outputId": "fecf2d4c-29bc-42ec-c8ba-43e0b3e000e5"
      },
      "outputs": [],
      "source": [
        "!gcloud auth list"
      ]
    },
    {
      "cell_type": "markdown",
      "id": "Ef3YjVSsRp9Q",
      "metadata": {
        "id": "Ef3YjVSsRp9Q"
      },
      "source": [
        "## Set Google Cloud project information and initialize Vertex AI SDK"
      ]
    },
    {
      "cell_type": "code",
      "execution_count": null,
      "id": "C8iMCMkeYgGT",
      "metadata": {
        "id": "C8iMCMkeYgGT"
      },
      "outputs": [],
      "source": [
        "# Define project information\n",
        "PROJECT_ID=os.getenv(\"GCP_PROJECT_ID\")\n",
        "LOCATION=os.getenv(\"LOCATION\")"
      ]
    },
    {
      "cell_type": "code",
      "execution_count": null,
      "id": "G1MCN16ZRFR3",
      "metadata": {
        "id": "G1MCN16ZRFR3"
      },
      "outputs": [],
      "source": [
        "# Initialize Vertex AI\n",
        "import vertexai\n",
        "\n",
        "vertexai.init(project=PROJECT_ID, location=LOCATION)"
      ]
    },
    {
      "cell_type": "markdown",
      "id": "KOBAtIV3R8mY",
      "metadata": {
        "id": "KOBAtIV3R8mY"
      },
      "source": [
        "## Import libraries"
      ]
    },
    {
      "cell_type": "code",
      "execution_count": null,
      "id": "lXlozq1mQThR",
      "metadata": {
        "id": "lXlozq1mQThR"
      },
      "outputs": [],
      "source": [
        "from vertexai.preview.generative_models import (\n",
        "    GenerationConfig,\n",
        "    GenerativeModel,\n",
        "    HarmCategory,\n",
        "    HarmBlockThreshold,\n",
        "    Image,\n",
        "    Part\n",
        ")"
      ]
    },
    {
      "cell_type": "markdown",
      "id": "Pyza6kJuSCg_",
      "metadata": {
        "id": "Pyza6kJuSCg_"
      },
      "source": [
        "## Use the Gemini 1.0 Pro model\n",
        "\n",
        "The Gemini 1.0 Pro (`gemini-1.0-pro`) model is designed to handle natural language tasks, multi-turn text and code chat, and code generation.\n"
      ]
    },
    {
      "cell_type": "markdown",
      "id": "teZPcNCISLkQ",
      "metadata": {
        "id": "teZPcNCISLkQ"
      },
      "source": [
        "## Load the Gemini 1.0 Pro model"
      ]
    },
    {
      "cell_type": "code",
      "execution_count": null,
      "id": "kUB8nEGhQXMH",
      "metadata": {
        "id": "kUB8nEGhQXMH"
      },
      "outputs": [],
      "source": [
        "model = GenerativeModel(\"gemini-2.0-flash-001\")"
      ]
    },
    {
      "cell_type": "markdown",
      "id": "soDP_1kmSTSn",
      "metadata": {
        "id": "soDP_1kmSTSn"
      },
      "source": [
        "## Generate text from text prompts"
      ]
    },
    {
      "cell_type": "code",
      "execution_count": null,
      "id": "cvWMgCTZntYK",
      "metadata": {
        "id": "cvWMgCTZntYK"
      },
      "outputs": [],
      "source": [
        "responses = model.generate_content(\"Why is the sky blue?\", stream=True)"
      ]
    },
    {
      "cell_type": "code",
      "execution_count": null,
      "id": "xuwrxROoSESn",
      "metadata": {
        "colab": {
          "base_uri": "https://localhost:8080/"
        },
        "id": "xuwrxROoSESn",
        "outputId": "ab4d952b-30de-4580-d22d-39f100c9d49d"
      },
      "outputs": [],
      "source": [
        "for response in responses:\n",
        "    print(response.text, end=\"\")"
      ]
    },
    {
      "cell_type": "code",
      "execution_count": null,
      "id": "yYfeGQzMn0E4",
      "metadata": {
        "id": "yYfeGQzMn0E4"
      },
      "outputs": [],
      "source": [
        "prompt = \"\"\"Create a numbered list of 10 items. Each item in the list should be a trend in the tech industry.\n",
        "\n",
        "Each trend should be less than 5 words.\"\"\"  # try your own prompt\n"
      ]
    },
    {
      "cell_type": "code",
      "execution_count": null,
      "id": "F2FOUPIfn4jp",
      "metadata": {
        "id": "F2FOUPIfn4jp"
      },
      "outputs": [],
      "source": [
        "responses = model.generate_content(prompt, stream=True)"
      ]
    },
    {
      "cell_type": "code",
      "execution_count": null,
      "id": "yhtHW2wySENe",
      "metadata": {
        "colab": {
          "base_uri": "https://localhost:8080/"
        },
        "id": "yhtHW2wySENe",
        "outputId": "c5a76690-6721-49f3-fa70-517231969b1b"
      },
      "outputs": [],
      "source": [
        "for response in responses:\n",
        "    print(response.text, end=\"\")"
      ]
    },
    {
      "cell_type": "markdown",
      "id": "lmoUexYKTFmj",
      "metadata": {
        "id": "lmoUexYKTFmj"
      },
      "source": [
        "## Model parameters\n",
        "\n",
        "Every prompt you send to the model includes parameter values that control how the model generates a response. The model can generate different results for different parameter values. You can experiment with different model parameters to see how the results change."
      ]
    },
    {
      "cell_type": "code",
      "execution_count": null,
      "id": "-96LHeIVoDVw",
      "metadata": {
        "id": "-96LHeIVoDVw"
      },
      "outputs": [],
      "source": [
        "generation_config = GenerationConfig(\n",
        "    temperature=0.9,\n",
        "    top_p=1.0,\n",
        "    top_k=32,\n",
        "    candidate_count=1,\n",
        "    max_output_tokens=8192,\n",
        ")\n"
      ]
    },
    {
      "cell_type": "code",
      "execution_count": null,
      "id": "9CyRucFooHMH",
      "metadata": {
        "id": "9CyRucFooHMH"
      },
      "outputs": [],
      "source": [
        "responses = model.generate_content(\n",
        "    \"Why is the sky blue?\",\n",
        "    generation_config=generation_config,\n",
        "    stream=True,\n",
        ")\n"
      ]
    },
    {
      "cell_type": "code",
      "execution_count": null,
      "id": "q4C71eAFSEK3",
      "metadata": {
        "colab": {
          "base_uri": "https://localhost:8080/"
        },
        "id": "q4C71eAFSEK3",
        "outputId": "45a63a4b-0295-4e87-e1fe-fd8b824ae794"
      },
      "outputs": [],
      "source": [
        "for response in responses:\n",
        "    print(response.text, end=\"\")"
      ]
    },
    {
      "cell_type": "code",
      "execution_count": null,
      "id": "UxflQ0mWoZcu",
      "metadata": {
        "id": "UxflQ0mWoZcu"
      },
      "outputs": [],
      "source": [
        "source_img_data = requests.get('https://drive.google.com/uc?export=view&id=15ddcn-AIxpvRdWcFGvIr77XLWdo4Maof').content"
      ]
    },
    {
      "cell_type": "code",
      "execution_count": null,
      "id": "G2SNnO7JYtlu",
      "metadata": {
        "id": "G2SNnO7JYtlu"
      },
      "outputs": [],
      "source": [
        "with open('coffee_maker_part.png', 'wb') as handler:\n",
        "  handler.write(source_img_data)"
      ]
    },
    {
      "cell_type": "code",
      "execution_count": 1,
      "id": "lYAFQWLFurTf",
      "metadata": {
        "id": "lYAFQWLFurTf"
      },
      "outputs": [],
      "source": [
        "from langchain_google_vertexai import ChatVertexAI"
      ]
    },
    {
      "cell_type": "code",
      "execution_count": 2,
      "id": "h4_Cd_QP13jh",
      "metadata": {
        "id": "h4_Cd_QP13jh"
      },
      "outputs": [],
      "source": [
        "from langchain.schema.messages import HumanMessage\n",
        "from PIL import Image, ImageFile\n",
        "import os, sys\n",
        "\n"
      ]
    },
    {
      "cell_type": "code",
      "execution_count": 5,
      "id": "Q5-GXhql2amH",
      "metadata": {
        "id": "Q5-GXhql2amH"
      },
      "outputs": [],
      "source": [
        "# Initialize ChatVertexAI with explicit project and location\n",
        "from langchain_google_vertexai import ChatVertexAI\n",
        "chat = ChatVertexAI(model_name=\"gemini-2.0-flash-001\", project=PROJECT_ID, location=LOCATION)"
      ]
    },
    {
      "cell_type": "code",
      "execution_count": 6,
      "id": "-5a4W_Os2iUo",
      "metadata": {
        "id": "-5a4W_Os2iUo"
      },
      "outputs": [],
      "source": [
        "image_message = {\n",
        "    \"type\": \"image_url\",\n",
        "    \"image_url\": {\"url\": \"coffee_maker_part.png\"},\n",
        "}\n",
        "text_message = {\n",
        "    \"type\": \"text\",\n",
        "    \"text\": \"What is this image? Share a link to purchase a replacement\",\n",
        "}"
      ]
    },
    {
      "cell_type": "code",
      "execution_count": 7,
      "id": "d3_y9HUppFS3",
      "metadata": {
        "id": "d3_y9HUppFS3"
      },
      "outputs": [],
      "source": [
        "message = HumanMessage(content=[text_message, image_message])"
      ]
    },
    {
      "cell_type": "code",
      "execution_count": 8,
      "id": "RO10SiFzpLX5",
      "metadata": {
        "colab": {
          "base_uri": "https://localhost:8080/"
        },
        "id": "RO10SiFzpLX5",
        "outputId": "3511a70a-b492-45d2-9bb4-b3af6e2dd1bd"
      },
      "outputs": [
        {
          "name": "stderr",
          "output_type": "stream",
          "text": [
            "/var/folders/07/8j6bcwpn5_qfb0_tjmt2qg100000gn/T/ipykernel_75782/714498407.py:1: LangChainDeprecationWarning: The method `BaseChatModel.__call__` was deprecated in langchain-core 0.1.7 and will be removed in 1.0. Use :meth:`~invoke` instead.\n",
            "  output = chat([message])\n"
          ]
        },
        {
          "ename": "ValueError",
          "evalue": "Support for loading local files has been removed for security reasons. Please pass in images as one of: Google Cloud Storage URI, b64 encoded image string (data:image/...), or valid image url. ",
          "output_type": "error",
          "traceback": [
            "\u001b[31m---------------------------------------------------------------------------\u001b[39m",
            "\u001b[31mValueError\u001b[39m                                Traceback (most recent call last)",
            "\u001b[36mCell\u001b[39m\u001b[36m \u001b[39m\u001b[32mIn[8]\u001b[39m\u001b[32m, line 1\u001b[39m\n\u001b[32m----> \u001b[39m\u001b[32m1\u001b[39m output = \u001b[43mchat\u001b[49m\u001b[43m(\u001b[49m\u001b[43m[\u001b[49m\u001b[43mmessage\u001b[49m\u001b[43m]\u001b[49m\u001b[43m)\u001b[49m\n",
            "\u001b[36mFile \u001b[39m\u001b[32m~/Documents/Personal/Codes/AgenticAIWorkspace/gcp_rag/.venv/lib/python3.11/site-packages/langchain_core/_api/deprecation.py:191\u001b[39m, in \u001b[36mdeprecated.<locals>.deprecate.<locals>.warning_emitting_wrapper\u001b[39m\u001b[34m(*args, **kwargs)\u001b[39m\n\u001b[32m    189\u001b[39m     warned = \u001b[38;5;28;01mTrue\u001b[39;00m\n\u001b[32m    190\u001b[39m     emit_warning()\n\u001b[32m--> \u001b[39m\u001b[32m191\u001b[39m \u001b[38;5;28;01mreturn\u001b[39;00m \u001b[43mwrapped\u001b[49m\u001b[43m(\u001b[49m\u001b[43m*\u001b[49m\u001b[43margs\u001b[49m\u001b[43m,\u001b[49m\u001b[43m \u001b[49m\u001b[43m*\u001b[49m\u001b[43m*\u001b[49m\u001b[43mkwargs\u001b[49m\u001b[43m)\u001b[49m\n",
            "\u001b[36mFile \u001b[39m\u001b[32m~/Documents/Personal/Codes/AgenticAIWorkspace/gcp_rag/.venv/lib/python3.11/site-packages/langchain_core/language_models/chat_models.py:1200\u001b[39m, in \u001b[36mBaseChatModel.__call__\u001b[39m\u001b[34m(self, messages, stop, callbacks, **kwargs)\u001b[39m\n\u001b[32m   1178\u001b[39m \u001b[38;5;129m@deprecated\u001b[39m(\u001b[33m\"\u001b[39m\u001b[33m0.1.7\u001b[39m\u001b[33m\"\u001b[39m, alternative=\u001b[33m\"\u001b[39m\u001b[33minvoke\u001b[39m\u001b[33m\"\u001b[39m, removal=\u001b[33m\"\u001b[39m\u001b[33m1.0\u001b[39m\u001b[33m\"\u001b[39m)\n\u001b[32m   1179\u001b[39m \u001b[38;5;28;01mdef\u001b[39;00m\u001b[38;5;250m \u001b[39m\u001b[34m__call__\u001b[39m(\n\u001b[32m   1180\u001b[39m     \u001b[38;5;28mself\u001b[39m,\n\u001b[32m   (...)\u001b[39m\u001b[32m   1184\u001b[39m     **kwargs: Any,\n\u001b[32m   1185\u001b[39m ) -> BaseMessage:\n\u001b[32m   1186\u001b[39m \u001b[38;5;250m    \u001b[39m\u001b[33;03m\"\"\"Call the model.\u001b[39;00m\n\u001b[32m   1187\u001b[39m \n\u001b[32m   1188\u001b[39m \u001b[33;03m    Args:\u001b[39;00m\n\u001b[32m   (...)\u001b[39m\u001b[32m   1198\u001b[39m \u001b[33;03m        The model output message.\u001b[39;00m\n\u001b[32m   1199\u001b[39m \u001b[33;03m    \"\"\"\u001b[39;00m\n\u001b[32m-> \u001b[39m\u001b[32m1200\u001b[39m     generation = \u001b[38;5;28;43mself\u001b[39;49m\u001b[43m.\u001b[49m\u001b[43mgenerate\u001b[49m\u001b[43m(\u001b[49m\n\u001b[32m   1201\u001b[39m \u001b[43m        \u001b[49m\u001b[43m[\u001b[49m\u001b[43mmessages\u001b[49m\u001b[43m]\u001b[49m\u001b[43m,\u001b[49m\u001b[43m \u001b[49m\u001b[43mstop\u001b[49m\u001b[43m=\u001b[49m\u001b[43mstop\u001b[49m\u001b[43m,\u001b[49m\u001b[43m \u001b[49m\u001b[43mcallbacks\u001b[49m\u001b[43m=\u001b[49m\u001b[43mcallbacks\u001b[49m\u001b[43m,\u001b[49m\u001b[43m \u001b[49m\u001b[43m*\u001b[49m\u001b[43m*\u001b[49m\u001b[43mkwargs\u001b[49m\n\u001b[32m   1202\u001b[39m \u001b[43m    \u001b[49m\u001b[43m)\u001b[49m.generations[\u001b[32m0\u001b[39m][\u001b[32m0\u001b[39m]\n\u001b[32m   1203\u001b[39m     \u001b[38;5;28;01mif\u001b[39;00m \u001b[38;5;28misinstance\u001b[39m(generation, ChatGeneration):\n\u001b[32m   1204\u001b[39m         \u001b[38;5;28;01mreturn\u001b[39;00m generation.message\n",
            "\u001b[36mFile \u001b[39m\u001b[32m~/Documents/Personal/Codes/AgenticAIWorkspace/gcp_rag/.venv/lib/python3.11/site-packages/langchain_core/language_models/chat_models.py:775\u001b[39m, in \u001b[36mBaseChatModel.generate\u001b[39m\u001b[34m(self, messages, stop, callbacks, tags, metadata, run_name, run_id, **kwargs)\u001b[39m\n\u001b[32m    772\u001b[39m \u001b[38;5;28;01mfor\u001b[39;00m i, m \u001b[38;5;129;01min\u001b[39;00m \u001b[38;5;28menumerate\u001b[39m(input_messages):\n\u001b[32m    773\u001b[39m     \u001b[38;5;28;01mtry\u001b[39;00m:\n\u001b[32m    774\u001b[39m         results.append(\n\u001b[32m--> \u001b[39m\u001b[32m775\u001b[39m             \u001b[38;5;28;43mself\u001b[39;49m\u001b[43m.\u001b[49m\u001b[43m_generate_with_cache\u001b[49m\u001b[43m(\u001b[49m\n\u001b[32m    776\u001b[39m \u001b[43m                \u001b[49m\u001b[43mm\u001b[49m\u001b[43m,\u001b[49m\n\u001b[32m    777\u001b[39m \u001b[43m                \u001b[49m\u001b[43mstop\u001b[49m\u001b[43m=\u001b[49m\u001b[43mstop\u001b[49m\u001b[43m,\u001b[49m\n\u001b[32m    778\u001b[39m \u001b[43m                \u001b[49m\u001b[43mrun_manager\u001b[49m\u001b[43m=\u001b[49m\u001b[43mrun_managers\u001b[49m\u001b[43m[\u001b[49m\u001b[43mi\u001b[49m\u001b[43m]\u001b[49m\u001b[43m \u001b[49m\u001b[38;5;28;43;01mif\u001b[39;49;00m\u001b[43m \u001b[49m\u001b[43mrun_managers\u001b[49m\u001b[43m \u001b[49m\u001b[38;5;28;43;01melse\u001b[39;49;00m\u001b[43m \u001b[49m\u001b[38;5;28;43;01mNone\u001b[39;49;00m\u001b[43m,\u001b[49m\n\u001b[32m    779\u001b[39m \u001b[43m                \u001b[49m\u001b[43m*\u001b[49m\u001b[43m*\u001b[49m\u001b[43mkwargs\u001b[49m\u001b[43m,\u001b[49m\n\u001b[32m    780\u001b[39m \u001b[43m            \u001b[49m\u001b[43m)\u001b[49m\n\u001b[32m    781\u001b[39m         )\n\u001b[32m    782\u001b[39m     \u001b[38;5;28;01mexcept\u001b[39;00m \u001b[38;5;167;01mBaseException\u001b[39;00m \u001b[38;5;28;01mas\u001b[39;00m e:\n\u001b[32m    783\u001b[39m         \u001b[38;5;28;01mif\u001b[39;00m run_managers:\n",
            "\u001b[36mFile \u001b[39m\u001b[32m~/Documents/Personal/Codes/AgenticAIWorkspace/gcp_rag/.venv/lib/python3.11/site-packages/langchain_core/language_models/chat_models.py:1021\u001b[39m, in \u001b[36mBaseChatModel._generate_with_cache\u001b[39m\u001b[34m(self, messages, stop, run_manager, **kwargs)\u001b[39m\n\u001b[32m   1019\u001b[39m     result = generate_from_stream(\u001b[38;5;28miter\u001b[39m(chunks))\n\u001b[32m   1020\u001b[39m \u001b[38;5;28;01melif\u001b[39;00m inspect.signature(\u001b[38;5;28mself\u001b[39m._generate).parameters.get(\u001b[33m\"\u001b[39m\u001b[33mrun_manager\u001b[39m\u001b[33m\"\u001b[39m):\n\u001b[32m-> \u001b[39m\u001b[32m1021\u001b[39m     result = \u001b[38;5;28;43mself\u001b[39;49m\u001b[43m.\u001b[49m\u001b[43m_generate\u001b[49m\u001b[43m(\u001b[49m\n\u001b[32m   1022\u001b[39m \u001b[43m        \u001b[49m\u001b[43mmessages\u001b[49m\u001b[43m,\u001b[49m\u001b[43m \u001b[49m\u001b[43mstop\u001b[49m\u001b[43m=\u001b[49m\u001b[43mstop\u001b[49m\u001b[43m,\u001b[49m\u001b[43m \u001b[49m\u001b[43mrun_manager\u001b[49m\u001b[43m=\u001b[49m\u001b[43mrun_manager\u001b[49m\u001b[43m,\u001b[49m\u001b[43m \u001b[49m\u001b[43m*\u001b[49m\u001b[43m*\u001b[49m\u001b[43mkwargs\u001b[49m\n\u001b[32m   1023\u001b[39m \u001b[43m    \u001b[49m\u001b[43m)\u001b[49m\n\u001b[32m   1024\u001b[39m \u001b[38;5;28;01melse\u001b[39;00m:\n\u001b[32m   1025\u001b[39m     result = \u001b[38;5;28mself\u001b[39m._generate(messages, stop=stop, **kwargs)\n",
            "\u001b[36mFile \u001b[39m\u001b[32m~/Documents/Personal/Codes/AgenticAIWorkspace/gcp_rag/.venv/lib/python3.11/site-packages/langchain_google_vertexai/chat_models.py:1417\u001b[39m, in \u001b[36mChatVertexAI._generate\u001b[39m\u001b[34m(self, messages, stop, run_manager, stream, **kwargs)\u001b[39m\n\u001b[32m   1415\u001b[39m \u001b[38;5;28;01mif\u001b[39;00m \u001b[38;5;129;01mnot\u001b[39;00m \u001b[38;5;28mself\u001b[39m._is_gemini_model:\n\u001b[32m   1416\u001b[39m     \u001b[38;5;28;01mreturn\u001b[39;00m \u001b[38;5;28mself\u001b[39m._generate_non_gemini(messages, stop=stop, **kwargs)\n\u001b[32m-> \u001b[39m\u001b[32m1417\u001b[39m \u001b[38;5;28;01mreturn\u001b[39;00m \u001b[38;5;28;43mself\u001b[39;49m\u001b[43m.\u001b[49m\u001b[43m_generate_gemini\u001b[49m\u001b[43m(\u001b[49m\n\u001b[32m   1418\u001b[39m \u001b[43m    \u001b[49m\u001b[43mmessages\u001b[49m\u001b[43m=\u001b[49m\u001b[43mmessages\u001b[49m\u001b[43m,\u001b[49m\n\u001b[32m   1419\u001b[39m \u001b[43m    \u001b[49m\u001b[43mstop\u001b[49m\u001b[43m=\u001b[49m\u001b[43mstop\u001b[49m\u001b[43m,\u001b[49m\n\u001b[32m   1420\u001b[39m \u001b[43m    \u001b[49m\u001b[43mrun_manager\u001b[49m\u001b[43m=\u001b[49m\u001b[43mrun_manager\u001b[49m\u001b[43m,\u001b[49m\n\u001b[32m   1421\u001b[39m \u001b[43m    \u001b[49m\u001b[43mis_gemini\u001b[49m\u001b[43m=\u001b[49m\u001b[38;5;28;43;01mTrue\u001b[39;49;00m\u001b[43m,\u001b[49m\n\u001b[32m   1422\u001b[39m \u001b[43m    \u001b[49m\u001b[43m*\u001b[49m\u001b[43m*\u001b[49m\u001b[43mkwargs\u001b[49m\u001b[43m,\u001b[49m\n\u001b[32m   1423\u001b[39m \u001b[43m\u001b[49m\u001b[43m)\u001b[49m\n",
            "\u001b[36mFile \u001b[39m\u001b[32m~/Documents/Personal/Codes/AgenticAIWorkspace/gcp_rag/.venv/lib/python3.11/site-packages/langchain_google_vertexai/chat_models.py:1652\u001b[39m, in \u001b[36mChatVertexAI._generate_gemini\u001b[39m\u001b[34m(self, messages, stop, run_manager, **kwargs)\u001b[39m\n\u001b[32m   1645\u001b[39m \u001b[38;5;28;01mdef\u001b[39;00m\u001b[38;5;250m \u001b[39m\u001b[34m_generate_gemini\u001b[39m(\n\u001b[32m   1646\u001b[39m     \u001b[38;5;28mself\u001b[39m,\n\u001b[32m   1647\u001b[39m     messages: List[BaseMessage],\n\u001b[32m   (...)\u001b[39m\u001b[32m   1650\u001b[39m     **kwargs: Any,\n\u001b[32m   1651\u001b[39m ) -> ChatResult:\n\u001b[32m-> \u001b[39m\u001b[32m1652\u001b[39m     request = \u001b[38;5;28;43mself\u001b[39;49m\u001b[43m.\u001b[49m\u001b[43m_prepare_request_gemini\u001b[49m\u001b[43m(\u001b[49m\u001b[43mmessages\u001b[49m\u001b[43m=\u001b[49m\u001b[43mmessages\u001b[49m\u001b[43m,\u001b[49m\u001b[43m \u001b[49m\u001b[43mstop\u001b[49m\u001b[43m=\u001b[49m\u001b[43mstop\u001b[49m\u001b[43m,\u001b[49m\u001b[43m \u001b[49m\u001b[43m*\u001b[49m\u001b[43m*\u001b[49m\u001b[43mkwargs\u001b[49m\u001b[43m)\u001b[49m\n\u001b[32m   1653\u001b[39m     response = _completion_with_retry(\n\u001b[32m   1654\u001b[39m         \u001b[38;5;28mself\u001b[39m.prediction_client.generate_content,\n\u001b[32m   1655\u001b[39m         max_retries=\u001b[38;5;28mself\u001b[39m.max_retries,\n\u001b[32m   (...)\u001b[39m\u001b[32m   1660\u001b[39m         **kwargs,\n\u001b[32m   1661\u001b[39m     )\n\u001b[32m   1662\u001b[39m     \u001b[38;5;28;01mreturn\u001b[39;00m \u001b[38;5;28mself\u001b[39m._gemini_response_to_chat_result(response)\n",
            "\u001b[36mFile \u001b[39m\u001b[32m~/Documents/Personal/Codes/AgenticAIWorkspace/gcp_rag/.venv/lib/python3.11/site-packages/langchain_google_vertexai/chat_models.py:1507\u001b[39m, in \u001b[36mChatVertexAI._prepare_request_gemini\u001b[39m\u001b[34m(self, messages, stop, stream, tools, functions, tool_config, safety_settings, cached_content, tool_choice, logprobs, **kwargs)\u001b[39m\n\u001b[32m   1492\u001b[39m \u001b[38;5;28;01mdef\u001b[39;00m\u001b[38;5;250m \u001b[39m\u001b[34m_prepare_request_gemini\u001b[39m(\n\u001b[32m   1493\u001b[39m     \u001b[38;5;28mself\u001b[39m,\n\u001b[32m   1494\u001b[39m     messages: List[BaseMessage],\n\u001b[32m   (...)\u001b[39m\u001b[32m   1505\u001b[39m     **kwargs,\n\u001b[32m   1506\u001b[39m ) -> Union[v1GenerateContentRequest, GenerateContentRequest]:\n\u001b[32m-> \u001b[39m\u001b[32m1507\u001b[39m     system_instruction, contents = \u001b[43m_parse_chat_history_gemini\u001b[49m\u001b[43m(\u001b[49m\n\u001b[32m   1508\u001b[39m \u001b[43m        \u001b[49m\u001b[43mmessages\u001b[49m\u001b[43m,\u001b[49m\n\u001b[32m   1509\u001b[39m \u001b[43m        \u001b[49m\u001b[38;5;28;43mself\u001b[39;49m\u001b[43m.\u001b[49m\u001b[43m_image_bytes_loader_client\u001b[49m\u001b[43m,\u001b[49m\n\u001b[32m   1510\u001b[39m \u001b[43m        \u001b[49m\u001b[43mperform_literal_eval_on_string_raw_content\u001b[49m\u001b[43m=\u001b[49m\u001b[38;5;28;43mself\u001b[39;49m\u001b[43m.\u001b[49m\u001b[43mperform_literal_eval_on_string_raw_content\u001b[49m\u001b[43m,\u001b[49m\n\u001b[32m   1511\u001b[39m \u001b[43m    \u001b[49m\u001b[43m)\u001b[49m\n\u001b[32m   1512\u001b[39m     formatted_tools = \u001b[38;5;28mself\u001b[39m._tools_gemini(tools=tools, functions=functions)\n\u001b[32m   1513\u001b[39m     \u001b[38;5;28;01mif\u001b[39;00m tool_config:\n",
            "\u001b[36mFile \u001b[39m\u001b[32m~/Documents/Personal/Codes/AgenticAIWorkspace/gcp_rag/.venv/lib/python3.11/site-packages/langchain_google_vertexai/chat_models.py:347\u001b[39m, in \u001b[36m_parse_chat_history_gemini\u001b[39m\u001b[34m(history, imageBytesLoader, convert_system_message_to_human, perform_literal_eval_on_string_raw_content)\u001b[39m\n\u001b[32m    345\u001b[39m prev_ai_message = \u001b[38;5;28;01mNone\u001b[39;00m\n\u001b[32m    346\u001b[39m role = \u001b[33m\"\u001b[39m\u001b[33muser\u001b[39m\u001b[33m\"\u001b[39m\n\u001b[32m--> \u001b[39m\u001b[32m347\u001b[39m parts = \u001b[43m_convert_to_parts\u001b[49m\u001b[43m(\u001b[49m\u001b[43mmessage\u001b[49m\u001b[43m)\u001b[49m\n\u001b[32m    348\u001b[39m \u001b[38;5;28;01mif\u001b[39;00m system_parts \u001b[38;5;129;01mis\u001b[39;00m \u001b[38;5;129;01mnot\u001b[39;00m \u001b[38;5;28;01mNone\u001b[39;00m:\n\u001b[32m    349\u001b[39m     parts = system_parts + parts\n",
            "\u001b[36mFile \u001b[39m\u001b[32m~/Documents/Personal/Codes/AgenticAIWorkspace/gcp_rag/.venv/lib/python3.11/site-packages/langchain_google_vertexai/chat_models.py:315\u001b[39m, in \u001b[36m_parse_chat_history_gemini.<locals>._convert_to_parts\u001b[39m\u001b[34m(message)\u001b[39m\n\u001b[32m    313\u001b[39m result = []\n\u001b[32m    314\u001b[39m \u001b[38;5;28;01mfor\u001b[39;00m raw_part \u001b[38;5;129;01min\u001b[39;00m raw_content:\n\u001b[32m--> \u001b[39m\u001b[32m315\u001b[39m     part = \u001b[43m_convert_to_prompt\u001b[49m\u001b[43m(\u001b[49m\u001b[43mraw_part\u001b[49m\u001b[43m)\u001b[49m\n\u001b[32m    316\u001b[39m     \u001b[38;5;28;01mif\u001b[39;00m part:\n\u001b[32m    317\u001b[39m         result.append(part)\n",
            "\u001b[36mFile \u001b[39m\u001b[32m~/Documents/Personal/Codes/AgenticAIWorkspace/gcp_rag/.venv/lib/python3.11/site-packages/langchain_google_vertexai/chat_models.py:262\u001b[39m, in \u001b[36m_parse_chat_history_gemini.<locals>._convert_to_prompt\u001b[39m\u001b[34m(part)\u001b[39m\n\u001b[32m    260\u001b[39m \u001b[38;5;28;01mif\u001b[39;00m part[\u001b[33m\"\u001b[39m\u001b[33mtype\u001b[39m\u001b[33m\"\u001b[39m] == \u001b[33m\"\u001b[39m\u001b[33mimage_url\u001b[39m\u001b[33m\"\u001b[39m:\n\u001b[32m    261\u001b[39m     path = part[\u001b[33m\"\u001b[39m\u001b[33mimage_url\u001b[39m\u001b[33m\"\u001b[39m][\u001b[33m\"\u001b[39m\u001b[33murl\u001b[39m\u001b[33m\"\u001b[39m]\n\u001b[32m--> \u001b[39m\u001b[32m262\u001b[39m     \u001b[38;5;28;01mreturn\u001b[39;00m \u001b[43mimageBytesLoader\u001b[49m\u001b[43m.\u001b[49m\u001b[43mload_gapic_part\u001b[49m\u001b[43m(\u001b[49m\u001b[43mpath\u001b[49m\u001b[43m)\u001b[49m\n\u001b[32m    264\u001b[39m \u001b[38;5;66;03m# Handle media type like LangChain.js\u001b[39;00m\n\u001b[32m    265\u001b[39m \u001b[38;5;66;03m# https://github.com/langchain-ai/langchainjs/blob/e536593e2585f1dd7b0afc187de4d07cb40689ba/libs/langchain-google-common/src/utils/gemini.ts#L93-L106\u001b[39;00m\n\u001b[32m    266\u001b[39m \u001b[38;5;28;01mif\u001b[39;00m part[\u001b[33m\"\u001b[39m\u001b[33mtype\u001b[39m\u001b[33m\"\u001b[39m] == \u001b[33m\"\u001b[39m\u001b[33mmedia\u001b[39m\u001b[33m\"\u001b[39m:\n",
            "\u001b[36mFile \u001b[39m\u001b[32m~/Documents/Personal/Codes/AgenticAIWorkspace/gcp_rag/.venv/lib/python3.11/site-packages/langchain_google_vertexai/_image_utils.py:132\u001b[39m, in \u001b[36mImageBytesLoader.load_gapic_part\u001b[39m\u001b[34m(self, image_string)\u001b[39m\n\u001b[32m    131\u001b[39m \u001b[38;5;28;01mdef\u001b[39;00m\u001b[38;5;250m \u001b[39m\u001b[34mload_gapic_part\u001b[39m(\u001b[38;5;28mself\u001b[39m, image_string: \u001b[38;5;28mstr\u001b[39m) -> GapicPart:\n\u001b[32m--> \u001b[39m\u001b[32m132\u001b[39m     part = \u001b[38;5;28;43mself\u001b[39;49m\u001b[43m.\u001b[49m\u001b[43mload_part\u001b[49m\u001b[43m(\u001b[49m\u001b[43mimage_string\u001b[49m\u001b[43m)\u001b[49m\n\u001b[32m    133\u001b[39m     \u001b[38;5;28;01mreturn\u001b[39;00m part._raw_part\n",
            "\u001b[36mFile \u001b[39m\u001b[32m~/Documents/Personal/Codes/AgenticAIWorkspace/gcp_rag/.venv/lib/python3.11/site-packages/langchain_google_vertexai/_image_utils.py:123\u001b[39m, in \u001b[36mImageBytesLoader.load_part\u001b[39m\u001b[34m(self, image_string)\u001b[39m\n\u001b[32m    116\u001b[39m \u001b[38;5;28;01mif\u001b[39;00m route == Route.LOCAL_FILE:\n\u001b[32m    117\u001b[39m     msg = (\n\u001b[32m    118\u001b[39m         \u001b[33m\"\u001b[39m\u001b[33mSupport for loading local files has been removed for security \u001b[39m\u001b[33m\"\u001b[39m\n\u001b[32m    119\u001b[39m         \u001b[33m\"\u001b[39m\u001b[33mreasons. Please pass in images as one of: \u001b[39m\u001b[33m\"\u001b[39m\n\u001b[32m    120\u001b[39m         \u001b[33m\"\u001b[39m\u001b[33mGoogle Cloud Storage URI, b64 encoded image string (data:image/...), \u001b[39m\u001b[33m\"\u001b[39m\n\u001b[32m    121\u001b[39m         \u001b[33m\"\u001b[39m\u001b[33mor valid image url. \u001b[39m\u001b[33m\"\u001b[39m\n\u001b[32m    122\u001b[39m     )\n\u001b[32m--> \u001b[39m\u001b[32m123\u001b[39m     \u001b[38;5;28;01mraise\u001b[39;00m \u001b[38;5;167;01mValueError\u001b[39;00m(msg)\n\u001b[32m    125\u001b[39m mime_type = \u001b[38;5;28mself\u001b[39m._has_known_mimetype(image_string)\n\u001b[32m    126\u001b[39m \u001b[38;5;28;01mif\u001b[39;00m mime_type:\n",
            "\u001b[31mValueError\u001b[39m: Support for loading local files has been removed for security reasons. Please pass in images as one of: Google Cloud Storage URI, b64 encoded image string (data:image/...), or valid image url. "
          ]
        }
      ],
      "source": [
        "output = chat([message])"
      ]
    },
    {
      "cell_type": "code",
      "execution_count": 9,
      "id": "8i96veBrYwim",
      "metadata": {
        "colab": {
          "base_uri": "https://localhost:8080/"
        },
        "id": "8i96veBrYwim",
        "outputId": "6750597f-4d75-43ab-cc3f-fcb91a53e020"
      },
      "outputs": [
        {
          "ename": "NameError",
          "evalue": "name 'output' is not defined",
          "output_type": "error",
          "traceback": [
            "\u001b[31m---------------------------------------------------------------------------\u001b[39m",
            "\u001b[31mNameError\u001b[39m                                 Traceback (most recent call last)",
            "\u001b[36mCell\u001b[39m\u001b[36m \u001b[39m\u001b[32mIn[9]\u001b[39m\u001b[32m, line 1\u001b[39m\n\u001b[32m----> \u001b[39m\u001b[32m1\u001b[39m \u001b[38;5;28mprint\u001b[39m(\u001b[43moutput\u001b[49m.content)\n",
            "\u001b[31mNameError\u001b[39m: name 'output' is not defined"
          ]
        }
      ],
      "source": [
        "print(output.content)"
      ]
    },
    {
      "cell_type": "code",
      "execution_count": 10,
      "id": "s0kOfknRY20q",
      "metadata": {
        "colab": {
          "base_uri": "https://localhost:8080/",
          "height": 520
        },
        "id": "s0kOfknRY20q",
        "outputId": "c5504a10-e63c-4f53-edf0-99a20cb5cbf1"
      },
      "outputs": [
        {
          "data": {
            "application/vnd.microsoft.datawrangler.viewer.v0+json": {
              "columns": [
                {
                  "name": "index",
                  "rawType": "int64",
                  "type": "integer"
                },
                {
                  "name": "name",
                  "rawType": "object",
                  "type": "string"
                },
                {
                  "name": "url",
                  "rawType": "object",
                  "type": "string"
                },
                {
                  "name": "price",
                  "rawType": "object",
                  "type": "string"
                },
                {
                  "name": "image",
                  "rawType": "object",
                  "type": "string"
                }
              ],
              "ref": "de5c679a-fc57-41ea-a19c-6722f85e146e",
              "rows": [
                [
                  "0",
                  "Saucer",
                  "https://www.breville.com/us/en/parts-accessories/parts/sp0014946.html?sku=SP0014946",
                  "10.95",
                  "https://www.breville.com/content/dam/breville/us/catalog/products/images/sp0/sp0014946/tile.jpg"
                ],
                [
                  "1",
                  "Saucer Ceramic",
                  "https://www.breville.com/us/en/parts-accessories/parts/sp0014914.html?sku=SP0014914",
                  "4.99",
                  "https://www.breville.com/content/dam/breville/us/catalog/products/images/sp0/sp0014914/tile.jpg"
                ],
                [
                  "2",
                  "Milk Jug Assembly",
                  "https://www.breville.com/us/en/parts-accessories/parts/sp0011391.html?sku=SP0011391",
                  "14.95",
                  "https://www.breville.com/content/dam/breville/us/catalog/products/images/sp0/sp0011391/tile.jpg"
                ],
                [
                  "3",
                  "Handle Steam Wand Kit (New Version From 0735 PDC)",
                  "https://www.breville.com/us/en/parts-accessories/parts/sp0010719.html?sku=SP0010719",
                  "8.95",
                  "https://www.breville.com/content/dam/breville/ca/catalog/products/images/sp0/sp0010719/tile.jpg"
                ],
                [
                  "4",
                  "Spout Juice Small (From 0637 to 1041 PDC)",
                  "https://www.breville.com/us/en/parts-accessories/parts/sp0010718.html?sku=SP0010718",
                  "10.95",
                  "https://www.breville.com/content/dam/breville/ca/catalog/products/images/sp0/sp0010718/tile.jpg"
                ],
                [
                  "5",
                  "Cleaning Steam Wand",
                  "https://www.breville.com/us/en/parts-accessories/parts/sp0003247.html?sku=SP0003247",
                  "6.95",
                  "https://www.breville.com/content/dam/breville/ca/catalog/products/images/sp0/sp0003247/tile.jpg"
                ],
                [
                  "6",
                  "Jug Frothing",
                  "https://www.breville.com/us/en/parts-accessories/parts/sp0003246.html?sku=SP0003246",
                  "24.95",
                  "https://assets.breville.com/cdn-cgi/image/width=400,format=auto/Spare+Parts+/Espresso+Machines/BES250/SP0003246/SP0003246_IMAGE1_400X400.jpg"
                ],
                [
                  "7",
                  "Spoon Tamping 50mm",
                  "https://www.breville.com/us/en/parts-accessories/parts/sp0003243.html?sku=SP0003243",
                  "8.95",
                  "https://assets.breville.com/cdn-cgi/image/width=400,format=auto/Spare+Parts+/Espresso+Machines/ESP8/SP0003243/SP0003243_IMAGE1_400X400.jpg"
                ],
                [
                  "8",
                  "Collar Grouphead 50mm",
                  "https://www.breville.com/us/en/parts-accessories/parts/sp0003232.html?sku=SP0003232",
                  "6.95",
                  "https://assets.breville.com/cdn-cgi/image/width=400,format=auto/Spare+Parts+/Espresso+Machines/ESP8/SP0003232/SP0003232_IMAGE1_400x400.jpg"
                ],
                [
                  "9",
                  "Filter 2 Cup Dual Wall 50mm",
                  "https://www.breville.com/us/en/parts-accessories/parts/sp0003231.html?sku=SP0003231",
                  "12.95",
                  "https://www.breville.com/content/dam/breville/au/catalog/products/images/sp0/sp0003231/tile.jpg"
                ],
                [
                  "10",
                  "Filter 1 Cup 50mm",
                  "https://www.breville.com/us/en/parts-accessories/parts/sp0003230.html?sku=SP0003230",
                  "12.95",
                  "https://www.breville.com/content/dam/breville/au/catalog/products/images/sp0/sp0003230/tile.jpg"
                ],
                [
                  "11",
                  "Water Tank Assembly",
                  "https://www.breville.com/us/en/parts-accessories/parts/sp0003225.html?sku=SP0003225",
                  "14.95",
                  "https://www.breville.com/content/dam/breville/ca/catalog/products/images/sp0/sp0003225/tile.jpg"
                ],
                [
                  "12",
                  "Portafilter Assembly 50mm",
                  "https://www.breville.com/us/en/parts-accessories/parts/sp0003216.html?sku=SP0003216",
                  "10.95",
                  "https://www.breville.com/content/dam/breville/ca/catalog/products/images/sp0/sp0003216/tile.jpg"
                ],
                [
                  "13",
                  "Milk Jug Assembly",
                  "https://www.breville.com/us/en/parts-accessories/parts/sp0001875.html?sku=SP0001875",
                  "16.95",
                  "https://www.breville.com/content/dam/breville/au/catalog/products/images/sp0/sp0001875/tile.jpg"
                ],
                [
                  "14",
                  "Filter 2 Cup 50mm",
                  "https://www.breville.com/us/en/parts-accessories/parts/sp0000166.html?sku=SP0000166",
                  "11.95",
                  "https://www.breville.com/content/dam/breville/us/catalog/products/images/sp0/sp0000166/tile.jpg"
                ]
              ],
              "shape": {
                "columns": 4,
                "rows": 15
              }
            },
            "text/html": [
              "<div>\n",
              "<style scoped>\n",
              "    .dataframe tbody tr th:only-of-type {\n",
              "        vertical-align: middle;\n",
              "    }\n",
              "\n",
              "    .dataframe tbody tr th {\n",
              "        vertical-align: top;\n",
              "    }\n",
              "\n",
              "    .dataframe thead th {\n",
              "        text-align: right;\n",
              "    }\n",
              "</style>\n",
              "<table border=\"1\" class=\"dataframe\">\n",
              "  <thead>\n",
              "    <tr style=\"text-align: right;\">\n",
              "      <th></th>\n",
              "      <th>name</th>\n",
              "      <th>url</th>\n",
              "      <th>price</th>\n",
              "      <th>image</th>\n",
              "    </tr>\n",
              "  </thead>\n",
              "  <tbody>\n",
              "    <tr>\n",
              "      <th>0</th>\n",
              "      <td>Saucer</td>\n",
              "      <td>https://www.breville.com/us/en/parts-accessori...</td>\n",
              "      <td>10.95</td>\n",
              "      <td>https://www.breville.com/content/dam/breville/...</td>\n",
              "    </tr>\n",
              "    <tr>\n",
              "      <th>1</th>\n",
              "      <td>Saucer Ceramic</td>\n",
              "      <td>https://www.breville.com/us/en/parts-accessori...</td>\n",
              "      <td>4.99</td>\n",
              "      <td>https://www.breville.com/content/dam/breville/...</td>\n",
              "    </tr>\n",
              "    <tr>\n",
              "      <th>2</th>\n",
              "      <td>Milk Jug Assembly</td>\n",
              "      <td>https://www.breville.com/us/en/parts-accessori...</td>\n",
              "      <td>14.95</td>\n",
              "      <td>https://www.breville.com/content/dam/breville/...</td>\n",
              "    </tr>\n",
              "    <tr>\n",
              "      <th>3</th>\n",
              "      <td>Handle Steam Wand Kit (New Version From 0735 PDC)</td>\n",
              "      <td>https://www.breville.com/us/en/parts-accessori...</td>\n",
              "      <td>8.95</td>\n",
              "      <td>https://www.breville.com/content/dam/breville/...</td>\n",
              "    </tr>\n",
              "    <tr>\n",
              "      <th>4</th>\n",
              "      <td>Spout Juice Small (From 0637 to 1041 PDC)</td>\n",
              "      <td>https://www.breville.com/us/en/parts-accessori...</td>\n",
              "      <td>10.95</td>\n",
              "      <td>https://www.breville.com/content/dam/breville/...</td>\n",
              "    </tr>\n",
              "    <tr>\n",
              "      <th>5</th>\n",
              "      <td>Cleaning Steam Wand</td>\n",
              "      <td>https://www.breville.com/us/en/parts-accessori...</td>\n",
              "      <td>6.95</td>\n",
              "      <td>https://www.breville.com/content/dam/breville/...</td>\n",
              "    </tr>\n",
              "    <tr>\n",
              "      <th>6</th>\n",
              "      <td>Jug Frothing</td>\n",
              "      <td>https://www.breville.com/us/en/parts-accessori...</td>\n",
              "      <td>24.95</td>\n",
              "      <td>https://assets.breville.com/cdn-cgi/image/widt...</td>\n",
              "    </tr>\n",
              "    <tr>\n",
              "      <th>7</th>\n",
              "      <td>Spoon Tamping 50mm</td>\n",
              "      <td>https://www.breville.com/us/en/parts-accessori...</td>\n",
              "      <td>8.95</td>\n",
              "      <td>https://assets.breville.com/cdn-cgi/image/widt...</td>\n",
              "    </tr>\n",
              "    <tr>\n",
              "      <th>8</th>\n",
              "      <td>Collar Grouphead 50mm</td>\n",
              "      <td>https://www.breville.com/us/en/parts-accessori...</td>\n",
              "      <td>6.95</td>\n",
              "      <td>https://assets.breville.com/cdn-cgi/image/widt...</td>\n",
              "    </tr>\n",
              "    <tr>\n",
              "      <th>9</th>\n",
              "      <td>Filter 2 Cup Dual Wall 50mm</td>\n",
              "      <td>https://www.breville.com/us/en/parts-accessori...</td>\n",
              "      <td>12.95</td>\n",
              "      <td>https://www.breville.com/content/dam/breville/...</td>\n",
              "    </tr>\n",
              "    <tr>\n",
              "      <th>10</th>\n",
              "      <td>Filter 1 Cup 50mm</td>\n",
              "      <td>https://www.breville.com/us/en/parts-accessori...</td>\n",
              "      <td>12.95</td>\n",
              "      <td>https://www.breville.com/content/dam/breville/...</td>\n",
              "    </tr>\n",
              "    <tr>\n",
              "      <th>11</th>\n",
              "      <td>Water Tank Assembly</td>\n",
              "      <td>https://www.breville.com/us/en/parts-accessori...</td>\n",
              "      <td>14.95</td>\n",
              "      <td>https://www.breville.com/content/dam/breville/...</td>\n",
              "    </tr>\n",
              "    <tr>\n",
              "      <th>12</th>\n",
              "      <td>Portafilter Assembly 50mm</td>\n",
              "      <td>https://www.breville.com/us/en/parts-accessori...</td>\n",
              "      <td>10.95</td>\n",
              "      <td>https://www.breville.com/content/dam/breville/...</td>\n",
              "    </tr>\n",
              "    <tr>\n",
              "      <th>13</th>\n",
              "      <td>Milk Jug Assembly</td>\n",
              "      <td>https://www.breville.com/us/en/parts-accessori...</td>\n",
              "      <td>16.95</td>\n",
              "      <td>https://www.breville.com/content/dam/breville/...</td>\n",
              "    </tr>\n",
              "    <tr>\n",
              "      <th>14</th>\n",
              "      <td>Filter 2 Cup 50mm</td>\n",
              "      <td>https://www.breville.com/us/en/parts-accessori...</td>\n",
              "      <td>11.95</td>\n",
              "      <td>https://www.breville.com/content/dam/breville/...</td>\n",
              "    </tr>\n",
              "  </tbody>\n",
              "</table>\n",
              "</div>"
            ],
            "text/plain": [
              "                                                 name  \\\n",
              "0                                              Saucer   \n",
              "1                                      Saucer Ceramic   \n",
              "2                                   Milk Jug Assembly   \n",
              "3   Handle Steam Wand Kit (New Version From 0735 PDC)   \n",
              "4           Spout Juice Small (From 0637 to 1041 PDC)   \n",
              "5                                 Cleaning Steam Wand   \n",
              "6                                        Jug Frothing   \n",
              "7                                  Spoon Tamping 50mm   \n",
              "8                               Collar Grouphead 50mm   \n",
              "9                         Filter 2 Cup Dual Wall 50mm   \n",
              "10                                  Filter 1 Cup 50mm   \n",
              "11                                Water Tank Assembly   \n",
              "12                          Portafilter Assembly 50mm   \n",
              "13                                  Milk Jug Assembly   \n",
              "14                                  Filter 2 Cup 50mm   \n",
              "\n",
              "                                                  url  price  \\\n",
              "0   https://www.breville.com/us/en/parts-accessori...  10.95   \n",
              "1   https://www.breville.com/us/en/parts-accessori...   4.99   \n",
              "2   https://www.breville.com/us/en/parts-accessori...  14.95   \n",
              "3   https://www.breville.com/us/en/parts-accessori...   8.95   \n",
              "4   https://www.breville.com/us/en/parts-accessori...  10.95   \n",
              "5   https://www.breville.com/us/en/parts-accessori...   6.95   \n",
              "6   https://www.breville.com/us/en/parts-accessori...  24.95   \n",
              "7   https://www.breville.com/us/en/parts-accessori...   8.95   \n",
              "8   https://www.breville.com/us/en/parts-accessori...   6.95   \n",
              "9   https://www.breville.com/us/en/parts-accessori...  12.95   \n",
              "10  https://www.breville.com/us/en/parts-accessori...  12.95   \n",
              "11  https://www.breville.com/us/en/parts-accessori...  14.95   \n",
              "12  https://www.breville.com/us/en/parts-accessori...  10.95   \n",
              "13  https://www.breville.com/us/en/parts-accessori...  16.95   \n",
              "14  https://www.breville.com/us/en/parts-accessori...  11.95   \n",
              "\n",
              "                                                image  \n",
              "0   https://www.breville.com/content/dam/breville/...  \n",
              "1   https://www.breville.com/content/dam/breville/...  \n",
              "2   https://www.breville.com/content/dam/breville/...  \n",
              "3   https://www.breville.com/content/dam/breville/...  \n",
              "4   https://www.breville.com/content/dam/breville/...  \n",
              "5   https://www.breville.com/content/dam/breville/...  \n",
              "6   https://assets.breville.com/cdn-cgi/image/widt...  \n",
              "7   https://assets.breville.com/cdn-cgi/image/widt...  \n",
              "8   https://assets.breville.com/cdn-cgi/image/widt...  \n",
              "9   https://www.breville.com/content/dam/breville/...  \n",
              "10  https://www.breville.com/content/dam/breville/...  \n",
              "11  https://www.breville.com/content/dam/breville/...  \n",
              "12  https://www.breville.com/content/dam/breville/...  \n",
              "13  https://www.breville.com/content/dam/breville/...  \n",
              "14  https://www.breville.com/content/dam/breville/...  "
            ]
          },
          "execution_count": 10,
          "metadata": {},
          "output_type": "execute_result"
        }
      ],
      "source": [
        "import pandas as pd\n",
        "\n",
        "d = {'name': [\"Saucer\", \"Saucer Ceramic\", \"Milk Jug Assembly\", \"Handle Steam Wand Kit (New Version From 0735 PDC)\", \"Spout Juice Small (From 0637 to 1041 PDC)\", \"Cleaning Steam Wand\", \"Jug Frothing\", \"Spoon Tamping 50mm\", \"Collar Grouphead 50mm\", \"Filter 2 Cup Dual Wall 50mm\", \"Filter 1 Cup 50mm\", \"Water Tank Assembly\", \"Portafilter Assembly 50mm\", \"Milk Jug Assembly\", \"Filter 2 Cup 50mm\" ],\n",
        "     'url': [\"https://www.breville.com/us/en/parts-accessories/parts/sp0014946.html?sku=SP0014946\", \"https://www.breville.com/us/en/parts-accessories/parts/sp0014914.html?sku=SP0014914\", \"https://www.breville.com/us/en/parts-accessories/parts/sp0011391.html?sku=SP0011391\", \"https://www.breville.com/us/en/parts-accessories/parts/sp0010719.html?sku=SP0010719\", \"https://www.breville.com/us/en/parts-accessories/parts/sp0010718.html?sku=SP0010718\", \"https://www.breville.com/us/en/parts-accessories/parts/sp0003247.html?sku=SP0003247\", \"https://www.breville.com/us/en/parts-accessories/parts/sp0003246.html?sku=SP0003246\", \"https://www.breville.com/us/en/parts-accessories/parts/sp0003243.html?sku=SP0003243\", \"https://www.breville.com/us/en/parts-accessories/parts/sp0003232.html?sku=SP0003232\", \"https://www.breville.com/us/en/parts-accessories/parts/sp0003231.html?sku=SP0003231\", \"https://www.breville.com/us/en/parts-accessories/parts/sp0003230.html?sku=SP0003230\", \"https://www.breville.com/us/en/parts-accessories/parts/sp0003225.html?sku=SP0003225\", \"https://www.breville.com/us/en/parts-accessories/parts/sp0003216.html?sku=SP0003216\", \"https://www.breville.com/us/en/parts-accessories/parts/sp0001875.html?sku=SP0001875\", \"https://www.breville.com/us/en/parts-accessories/parts/sp0000166.html?sku=SP0000166\"],\n",
        "     'price': [\"10.95\", \"4.99\", \"14.95\", \"8.95\", \"10.95\", \"6.95\", \"24.95\", \"8.95\", \"6.95\", \"12.95\", \"12.95\", \"14.95\", \"10.95\", \"16.95\", \"11.95\"],\n",
        "     'image': [\"https://www.breville.com/content/dam/breville/us/catalog/products/images/sp0/sp0014946/tile.jpg\", \"https://www.breville.com/content/dam/breville/us/catalog/products/images/sp0/sp0014914/tile.jpg\", \"https://www.breville.com/content/dam/breville/us/catalog/products/images/sp0/sp0011391/tile.jpg\", \"https://www.breville.com/content/dam/breville/ca/catalog/products/images/sp0/sp0010719/tile.jpg\", \"https://www.breville.com/content/dam/breville/ca/catalog/products/images/sp0/sp0010718/tile.jpg\", \"https://www.breville.com/content/dam/breville/ca/catalog/products/images/sp0/sp0003247/tile.jpg\", \"https://assets.breville.com/cdn-cgi/image/width=400,format=auto/Spare+Parts+/Espresso+Machines/BES250/SP0003246/SP0003246_IMAGE1_400X400.jpg\", \"https://assets.breville.com/cdn-cgi/image/width=400,format=auto/Spare+Parts+/Espresso+Machines/ESP8/SP0003243/SP0003243_IMAGE1_400X400.jpg\", \"https://assets.breville.com/cdn-cgi/image/width=400,format=auto/Spare+Parts+/Espresso+Machines/ESP8/SP0003232/SP0003232_IMAGE1_400x400.jpg\", \"https://www.breville.com/content/dam/breville/au/catalog/products/images/sp0/sp0003231/tile.jpg\", \"https://www.breville.com/content/dam/breville/au/catalog/products/images/sp0/sp0003230/tile.jpg\", \"https://www.breville.com/content/dam/breville/ca/catalog/products/images/sp0/sp0003225/tile.jpg\", \"https://www.breville.com/content/dam/breville/ca/catalog/products/images/sp0/sp0003216/tile.jpg\", \"https://www.breville.com/content/dam/breville/au/catalog/products/images/sp0/sp0001875/tile.jpg\", \"https://www.breville.com/content/dam/breville/us/catalog/products/images/sp0/sp0000166/tile.jpg\"]}\n",
        "df = pd.DataFrame(data=d)\n",
        "df"
      ]
    },
    {
      "cell_type": "code",
      "execution_count": 12,
      "id": "2fcMmT6x2_Fu",
      "metadata": {
        "colab": {
          "base_uri": "https://localhost:8080/"
        },
        "id": "2fcMmT6x2_Fu",
        "outputId": "41454230-08d8-48f5-a7b3-f4ca4c9e7220"
      },
      "outputs": [],
      "source": [
        "import vertexai, json, requests\n",
        "from vertexai.preview.vision_models import MultiModalEmbeddingModel, Image\n",
        "from astrapy.db import AstraDB, AstraDBCollection"
      ]
    },
    {
      "cell_type": "code",
      "execution_count": 13,
      "id": "c5RNXJmb3BVw",
      "metadata": {
        "id": "c5RNXJmb3BVw"
      },
      "outputs": [],
      "source": [
        "vertexai.init(project=PROJECT_ID, location=LOCATION)\n",
        "model = MultiModalEmbeddingModel.from_pretrained(\"multimodalembedding@001\")"
      ]
    },
    {
      "cell_type": "code",
      "execution_count": 14,
      "id": "MmAw9Z8D3EYM",
      "metadata": {
        "id": "MmAw9Z8D3EYM"
      },
      "outputs": [],
      "source": [
        "# Initialize our vector db\n",
        "astra_db = AstraDB(token=ASTRA_DB_APPLICATION_TOKEN, api_endpoint= ASTRA_DB_API_ENDPOINT)"
      ]
    },
    {
      "cell_type": "code",
      "execution_count": 15,
      "id": "rGf8tmF23Gxc",
      "metadata": {
        "id": "rGf8tmF23Gxc"
      },
      "outputs": [],
      "source": [
        "collection = astra_db.create_collection(collection_name=\"coffee_shop_ecommerce\", dimension=1408)"
      ]
    },
    {
      "cell_type": "code",
      "execution_count": 16,
      "id": "Qc2D1qqvY6Jy",
      "metadata": {
        "id": "Qc2D1qqvY6Jy"
      },
      "outputs": [
        {
          "name": "stdout",
          "output_type": "stream",
          "text": [
            "Document already exists in the database.  Skipping.\n",
            "Document already exists in the database.  Skipping.\n",
            "Document already exists in the database.  Skipping.\n",
            "Document already exists in the database.  Skipping.\n",
            "Document already exists in the database.  Skipping.\n",
            "Document already exists in the database.  Skipping.\n",
            "Document already exists in the database.  Skipping.\n",
            "Document already exists in the database.  Skipping.\n",
            "Document already exists in the database.  Skipping.\n",
            "Document already exists in the database.  Skipping.\n",
            "Document already exists in the database.  Skipping.\n",
            "Document already exists in the database.  Skipping.\n",
            "Document already exists in the database.  Skipping.\n",
            "Document already exists in the database.  Skipping.\n",
            "Document already exists in the database.  Skipping.\n"
          ]
        }
      ],
      "source": [
        "for i in range(len(df)):\n",
        "  name = df.loc[i, \"name\"]\n",
        "  image = df.loc[i, \"image\"]\n",
        "  price = df.loc[i, \"price\"]\n",
        "  url = df.loc[i, \"url\"]\n",
        "\n",
        "  # Download this product's image and save it to the Colab filesystem.\n",
        "  # In a production system this binary data would be stored in Google Cloud Storage\n",
        "  img_data = requests.get(image).content\n",
        "  with open(f'{name}.png', 'wb') as handler:\n",
        "    handler.write(img_data)\n",
        "\n",
        "  # load the image from filesystem and compute the embedding value\n",
        "  img = Image.load_from_file(f'{name}.png')\n",
        "  embeddings = model.get_embeddings(image=img, contextual_text=name)\n",
        "\n",
        "  try:\n",
        "    # add to the AstraDB Vector Database\n",
        "    collection.insert_one({\n",
        "        \"_id\": i,\n",
        "        \"name\": name,\n",
        "        \"image\": image,\n",
        "        \"url\": url,\n",
        "        \"price\": price,\n",
        "        \"$vector\": embeddings.image_embedding,\n",
        "      })\n",
        "  except Exception as error:\n",
        "    # if you've already added this record, skip the error message\n",
        "    error_info = json.loads(str(error))\n",
        "    if error_info[0]['errorCode'] == \"DOCUMENT_ALREADY_EXISTS\":\n",
        "      print(\"Document already exists in the database.  Skipping.\")"
      ]
    },
    {
      "cell_type": "code",
      "execution_count": 17,
      "id": "A8OALWDt4alj",
      "metadata": {
        "id": "A8OALWDt4alj"
      },
      "outputs": [],
      "source": [
        "import json\n",
        "\n",
        "# Embed the similar item\n",
        "img = Image.load_from_file('coffee_maker_part.png')"
      ]
    },
    {
      "cell_type": "code",
      "execution_count": 18,
      "id": "FYEBo0rO3uV9",
      "metadata": {
        "id": "FYEBo0rO3uV9"
      },
      "outputs": [],
      "source": [
        "embeddings = model.get_embeddings(image=img, contextual_text=\"A espresso machine part\")"
      ]
    },
    {
      "cell_type": "code",
      "execution_count": 19,
      "id": "GfTqY9MKouR_",
      "metadata": {
        "colab": {
          "base_uri": "https://localhost:8080/"
        },
        "id": "GfTqY9MKouR_",
        "outputId": "585782eb-7176-4e25-9785-ad0e29f8d20f"
      },
      "outputs": [
        {
          "data": {
            "text/plain": [
              "[0.00964644831,\n",
              " -0.0426938608,\n",
              " 0.00189225166,\n",
              " 0.0440982431,\n",
              " -0.00553193223,\n",
              " -0.0237179101,\n",
              " -0.0117076375,\n",
              " -0.0151234157,\n",
              " -0.0221069623,\n",
              " -0.00657855254,\n",
              " -0.0138574606,\n",
              " -0.0380623788,\n",
              " 0.0182004012,\n",
              " 0.159336731,\n",
              " -0.0228624623,\n",
              " 0.00567911472,\n",
              " 0.0563615263,\n",
              " -0.00454381527,\n",
              " -0.0366299599,\n",
              " 0.0169716571,\n",
              " -0.0133394506,\n",
              " -0.0105287265,\n",
              " -0.00489120139,\n",
              " -0.0130226882,\n",
              " 0.000800233916,\n",
              " 0.00289596361,\n",
              " 0.00581800519,\n",
              " -0.0173474494,\n",
              " 0.0503662378,\n",
              " -0.0402288772,\n",
              " 0.0254743677,\n",
              " -0.00334996218,\n",
              " -0.00152883353,\n",
              " 0.0172211919,\n",
              " 0.0538242422,\n",
              " -0.0175645,\n",
              " -0.0202099197,\n",
              " 0.0206219554,\n",
              " -0.0094829062,\n",
              " -0.00583387027,\n",
              " -0.023844935,\n",
              " 0.0161948036,\n",
              " -0.0305651296,\n",
              " -0.0224497616,\n",
              " 0.00977370888,\n",
              " -0.0227512568,\n",
              " -0.0299170706,\n",
              " -0.000240379013,\n",
              " 0.00947524142,\n",
              " -0.00138750789,\n",
              " -0.0331849866,\n",
              " -0.0149001498,\n",
              " 0.0252218619,\n",
              " -0.0311618894,\n",
              " 0.0339485779,\n",
              " 0.000240568334,\n",
              " -0.0192495435,\n",
              " -0.0253038611,\n",
              " 0.0409213118,\n",
              " -0.0407566614,\n",
              " 0.011477815,\n",
              " -0.00957855303,\n",
              " 0.0339916758,\n",
              " -0.0156953,\n",
              " 0.010490234,\n",
              " 0.00396241806,\n",
              " 0.025767304,\n",
              " 0.0174216777,\n",
              " -0.00545961317,\n",
              " -0.0138944,\n",
              " -0.00270718895,\n",
              " -0.00341499923,\n",
              " -0.0127032977,\n",
              " 0.0058623869,\n",
              " -0.0302428193,\n",
              " -0.0246090386,\n",
              " -0.0388889387,\n",
              " 0.00367086893,\n",
              " -0.00485126395,\n",
              " -0.0253954474,\n",
              " 0.031118365,\n",
              " 0.0124506131,\n",
              " -0.0118156988,\n",
              " -0.00567749888,\n",
              " 0.000219880589,\n",
              " -0.000829090597,\n",
              " -0.00681207515,\n",
              " -0.00888168439,\n",
              " -0.0279152486,\n",
              " -0.00313759944,\n",
              " 0.0437297523,\n",
              " 0.0246349052,\n",
              " 0.000233046929,\n",
              " -0.236451909,\n",
              " -0.00787969399,\n",
              " -0.0507876202,\n",
              " -0.0319039188,\n",
              " 0.00788361207,\n",
              " 0.0130117172,\n",
              " -0.025308989,\n",
              " 0.00971944,\n",
              " 0.00547887664,\n",
              " 0.029992817,\n",
              " 0.0343003385,\n",
              " -0.0460179485,\n",
              " -0.0251726359,\n",
              " -0.0168308336,\n",
              " -0.0114209438,\n",
              " -0.00686190184,\n",
              " -0.0352582,\n",
              " -0.0427227058,\n",
              " 0.00333103794,\n",
              " -0.00623829523,\n",
              " -0.0216507595,\n",
              " 0.024188159,\n",
              " -0.019551985,\n",
              " -0.0417787135,\n",
              " 0.0237078127,\n",
              " -0.0192120969,\n",
              " 0.0468729772,\n",
              " -0.0218171328,\n",
              " -0.0249771066,\n",
              " -0.0011131,\n",
              " 0.000720187905,\n",
              " -0.00933213159,\n",
              " -0.082563974,\n",
              " 0.024871638,\n",
              " -0.0277584922,\n",
              " 0.00543956226,\n",
              " -0.0245044027,\n",
              " 0.0276428144,\n",
              " 0.0213282462,\n",
              " 0.0349406637,\n",
              " -0.0309529379,\n",
              " 0.00565088261,\n",
              " -0.00203012186,\n",
              " -0.0227491762,\n",
              " 0.00995601341,\n",
              " 0.0559630841,\n",
              " -0.0133478148,\n",
              " -0.0127195725,\n",
              " 0.0206297711,\n",
              " -0.0134967351,\n",
              " -0.0375629254,\n",
              " 0.0330832638,\n",
              " -0.00682549737,\n",
              " 0.00127462856,\n",
              " -0.0204505175,\n",
              " -0.0275369938,\n",
              " -0.0130758723,\n",
              " -0.00780441286,\n",
              " -0.0227115061,\n",
              " -0.0447310656,\n",
              " 0.0267072953,\n",
              " -0.00522637507,\n",
              " -0.00263888761,\n",
              " 0.00574110355,\n",
              " -0.0082203988,\n",
              " -0.0261069257,\n",
              " 0.00662348652,\n",
              " -0.0108368667,\n",
              " -0.00487077143,\n",
              " -0.0327994078,\n",
              " -0.000483214593,\n",
              " 0.0177804492,\n",
              " 0.00302632,\n",
              " -0.0114327418,\n",
              " -0.0188046768,\n",
              " 0.0243731327,\n",
              " 0.02030099,\n",
              " 0.0385580808,\n",
              " 0.0373008661,\n",
              " 0.00693050819,\n",
              " -0.0215750337,\n",
              " 0.0378742144,\n",
              " -0.00259904657,\n",
              " -0.0304800197,\n",
              " 0.00734206941,\n",
              " -0.00497364299,\n",
              " -0.00817925762,\n",
              " 0.00129489414,\n",
              " 0.00863231719,\n",
              " -0.0515509732,\n",
              " 0.0181625858,\n",
              " 0.04473757,\n",
              " 0.00823124405,\n",
              " -0.0221065078,\n",
              " -0.00858946331,\n",
              " -0.000265367446,\n",
              " 0.0388811156,\n",
              " -0.00918881129,\n",
              " -0.0277338102,\n",
              " -0.000559122534,\n",
              " 0.00635301834,\n",
              " 0.0118928757,\n",
              " 0.0171321705,\n",
              " 0.00493795564,\n",
              " -0.0325460695,\n",
              " -0.0048424406,\n",
              " 0.00171216647,\n",
              " 0.0383217707,\n",
              " -0.00560860615,\n",
              " 0.0221080761,\n",
              " -0.0157413296,\n",
              " 0.00865101721,\n",
              " 0.0207106229,\n",
              " 0.0129242344,\n",
              " -0.00176636071,\n",
              " 0.00291871559,\n",
              " 0.00764244096,\n",
              " -0.010813293,\n",
              " -0.028521888,\n",
              " 0.0228912868,\n",
              " 0.0243908875,\n",
              " -0.00539570581,\n",
              " 0.00928527676,\n",
              " -0.0386279,\n",
              " -0.00107371656,\n",
              " -0.00100728811,\n",
              " 0.00741788745,\n",
              " -0.0239240155,\n",
              " 0.0190378018,\n",
              " 0.00760629866,\n",
              " -0.0209087059,\n",
              " 0.00804432761,\n",
              " -0.0194104202,\n",
              " 0.0257531442,\n",
              " 0.0376126766,\n",
              " -0.0430830307,\n",
              " 0.0322108865,\n",
              " -0.0311794952,\n",
              " -0.00109560462,\n",
              " -0.0319633447,\n",
              " -0.034828838,\n",
              " -0.0273250416,\n",
              " -0.0100712087,\n",
              " 0.00492635136,\n",
              " 0.0131245051,\n",
              " 0.00608957466,\n",
              " -0.0390818343,\n",
              " 0.0330271088,\n",
              " 0.000495603774,\n",
              " -0.0160442,\n",
              " -0.0542484224,\n",
              " -0.00472971564,\n",
              " -0.00479863537,\n",
              " 0.00921017397,\n",
              " -0.010166212,\n",
              " -0.016706977,\n",
              " -0.0083187921,\n",
              " 0.00337351463,\n",
              " 0.0219850168,\n",
              " -0.0148815373,\n",
              " 0.00325910747,\n",
              " -0.0573247,\n",
              " -0.0153269982,\n",
              " -0.00580999488,\n",
              " 0.00234965468,\n",
              " 0.000676496769,\n",
              " 0.0166608375,\n",
              " 0.0220360439,\n",
              " -0.0147113837,\n",
              " 0.00928512309,\n",
              " -0.0119325006,\n",
              " -0.00100563327,\n",
              " 0.0284670666,\n",
              " 0.0129363434,\n",
              " 0.00582688488,\n",
              " 0.00795893185,\n",
              " 0.0457444936,\n",
              " -0.0605442673,\n",
              " 0.00739762746,\n",
              " -0.00597045943,\n",
              " 0.018202845,\n",
              " -0.0148946606,\n",
              " -0.0199114289,\n",
              " -0.0195505507,\n",
              " -0.0157718118,\n",
              " 0.00825822912,\n",
              " 0.0708517879,\n",
              " -0.025545897,\n",
              " 0.0231348313,\n",
              " 0.0121390792,\n",
              " 0.00453740032,\n",
              " -0.0115043437,\n",
              " 0.034526702,\n",
              " -0.156805605,\n",
              " -0.0123215728,\n",
              " -0.00296568568,\n",
              " -0.000292855431,\n",
              " -0.00585086551,\n",
              " -0.02956146,\n",
              " 0.00338323321,\n",
              " -0.0102218194,\n",
              " -0.0105670122,\n",
              " 0.0040935264,\n",
              " 0.0257040337,\n",
              " -0.0129262898,\n",
              " -0.0165734515,\n",
              " 0.00756514259,\n",
              " 0.00092420564,\n",
              " 0.008955325,\n",
              " 0.01156954,\n",
              " -0.0294208471,\n",
              " -0.0277858116,\n",
              " 0.0109786922,\n",
              " -0.0122180721,\n",
              " 0.0370978303,\n",
              " -0.00676631136,\n",
              " -0.00950569659,\n",
              " 0.0278786272,\n",
              " 0.0168453753,\n",
              " -0.00253569963,\n",
              " 0.0485497303,\n",
              " 0.00773386518,\n",
              " -0.00620835507,\n",
              " 0.0111013344,\n",
              " -0.0301852673,\n",
              " -0.00846976601,\n",
              " 0.0438567847,\n",
              " 0.0511096977,\n",
              " 0.0150036449,\n",
              " 0.0230275635,\n",
              " -0.00969823636,\n",
              " -0.00200293772,\n",
              " -0.0434018336,\n",
              " -0.0139301037,\n",
              " -0.0112531865,\n",
              " 0.037587326,\n",
              " 0.0163590536,\n",
              " -0.0376773812,\n",
              " -0.0241629723,\n",
              " 0.00482960045,\n",
              " -0.0142494803,\n",
              " -0.0321854353,\n",
              " -0.039513927,\n",
              " -0.0360960253,\n",
              " 0.0165772419,\n",
              " 0.00488225138,\n",
              " 0.00258840504,\n",
              " -0.035924051,\n",
              " 0.0429739282,\n",
              " -0.0109391268,\n",
              " -0.01949629,\n",
              " 0.0218832344,\n",
              " 0.0542916134,\n",
              " -0.0475166477,\n",
              " 0.00632685563,\n",
              " -0.018698018,\n",
              " -0.00330641889,\n",
              " 0.0591852628,\n",
              " -0.00631238101,\n",
              " -0.0123294387,\n",
              " 0.0455009677,\n",
              " -0.0125379069,\n",
              " 0.0272126645,\n",
              " -0.00966673158,\n",
              " 0.0183080714,\n",
              " -0.0262901541,\n",
              " -0.0111204246,\n",
              " 0.000385918567,\n",
              " 0.00870499201,\n",
              " -0.0187475197,\n",
              " -0.00808528066,\n",
              " -0.0113358973,\n",
              " -0.01784073,\n",
              " -0.00267586182,\n",
              " -0.0660800189,\n",
              " -0.0291196033,\n",
              " 0.00768650183,\n",
              " 0.0314606875,\n",
              " 0.0230092183,\n",
              " 0.00460459059,\n",
              " -0.00447818544,\n",
              " 0.0160267968,\n",
              " -0.0187760834,\n",
              " 0.0212010201,\n",
              " -0.0203569438,\n",
              " -0.0303770881,\n",
              " -0.0237497278,\n",
              " -0.00419902,\n",
              " -0.0106473146,\n",
              " -0.00212113,\n",
              " -0.0068355496,\n",
              " 0.0206161924,\n",
              " 0.021484971,\n",
              " 0.00951195881,\n",
              " -5.82128e-05,\n",
              " -0.0027075836,\n",
              " -0.0165155623,\n",
              " -0.0258411281,\n",
              " 0.0137593802,\n",
              " 0.0264299735,\n",
              " 0.0169604402,\n",
              " -0.00214529689,\n",
              " -0.00258841342,\n",
              " 0.0244249869,\n",
              " -0.0123766959,\n",
              " 0.0075572147,\n",
              " 0.0397624448,\n",
              " -0.00339803356,\n",
              " 0.0383947454,\n",
              " 0.0320402868,\n",
              " 0.0371636562,\n",
              " -0.0168267228,\n",
              " -0.0156688616,\n",
              " 0.0221457016,\n",
              " 0.00294983271,\n",
              " -0.0386291072,\n",
              " 0.000125353166,\n",
              " -0.0420637466,\n",
              " 0.00323138456,\n",
              " -0.00298715685,\n",
              " 0.0110772792,\n",
              " 0.0144363716,\n",
              " -0.001945141,\n",
              " -0.00645772321,\n",
              " 0.0389644913,\n",
              " -0.0265284665,\n",
              " 0.012326966,\n",
              " 0.00662045693,\n",
              " -0.0125711244,\n",
              " 0.00243274122,\n",
              " -0.0229826961,\n",
              " -0.0327648036,\n",
              " -0.0166675653,\n",
              " 0.015305087,\n",
              " -0.0424322411,\n",
              " -0.0311588235,\n",
              " -0.00829808693,\n",
              " -0.0380926952,\n",
              " -0.040295,\n",
              " 0.0117195947,\n",
              " -9.73743408e-06,\n",
              " 0.0163705293,\n",
              " 0.00419823499,\n",
              " -0.00258716103,\n",
              " -0.04802984,\n",
              " 0.009892,\n",
              " -0.0195970815,\n",
              " -0.00165773078,\n",
              " -0.0415741764,\n",
              " -0.0417262763,\n",
              " 0.00501515809,\n",
              " -0.0381500199,\n",
              " 0.00296343979,\n",
              " -0.00121453346,\n",
              " -0.0314004682,\n",
              " -0.0123064108,\n",
              " 0.00906732306,\n",
              " -0.00866331626,\n",
              " 0.0617931224,\n",
              " 0.000297620951,\n",
              " -0.00295057404,\n",
              " -0.0124164326,\n",
              " 0.0139631042,\n",
              " -0.00190509669,\n",
              " 0.0357435942,\n",
              " -0.00299807359,\n",
              " -0.0212871917,\n",
              " -0.0155247916,\n",
              " 0.00707249064,\n",
              " 0.00436445791,\n",
              " -0.00834276,\n",
              " 0.00145784603,\n",
              " 0.0124005955,\n",
              " 0.00434372481,\n",
              " 0.000877318031,\n",
              " 0.0093485089,\n",
              " -0.00654868502,\n",
              " 0.00614294829,\n",
              " -0.00727471849,\n",
              " 0.0100157512,\n",
              " 0.0037964941,\n",
              " -0.00322698988,\n",
              " -0.00239794119,\n",
              " -0.0183848944,\n",
              " -0.0207559559,\n",
              " 0.0101743834,\n",
              " 0.0155088203,\n",
              " -0.0187383611,\n",
              " -0.0334889,\n",
              " -0.0382281952,\n",
              " 0.0158364642,\n",
              " -0.00477973698,\n",
              " -0.0102355201,\n",
              " 0.0266301036,\n",
              " -0.0269474257,\n",
              " 0.0022227515,\n",
              " 0.00620093849,\n",
              " -0.0533935837,\n",
              " 0.010545684,\n",
              " 0.00716199353,\n",
              " 0.00352989696,\n",
              " 0.0133995255,\n",
              " -0.0306359623,\n",
              " 0.00349097932,\n",
              " 0.0136362137,\n",
              " 0.0119307395,\n",
              " 0.0151549159,\n",
              " -0.0219687186,\n",
              " 0.000457034912,\n",
              " 0.0637415349,\n",
              " 0.0068733017,\n",
              " -0.047178138,\n",
              " -0.0214732774,\n",
              " -0.0229007788,\n",
              " -0.0367003605,\n",
              " -0.0031053212,\n",
              " 0.0228004046,\n",
              " -0.0379578285,\n",
              " 0.0221628528,\n",
              " 0.0146824699,\n",
              " -0.0249997079,\n",
              " -0.00952016097,\n",
              " 0.0246382337,\n",
              " 0.0148472572,\n",
              " -0.0594556145,\n",
              " 0.00569421,\n",
              " 0.00391666684,\n",
              " 0.00708488934,\n",
              " 0.00312753022,\n",
              " -0.0125098759,\n",
              " 0.0189834684,\n",
              " 0.0303414986,\n",
              " -0.0166521017,\n",
              " 0.0406384319,\n",
              " 0.0288639013,\n",
              " -0.00153058092,\n",
              " -0.00451912,\n",
              " 0.0374274291,\n",
              " -0.0222113691,\n",
              " 0.00356426439,\n",
              " -0.00946255401,\n",
              " -0.00165334379,\n",
              " -0.0363092087,\n",
              " -0.00457335636,\n",
              " -0.0238123629,\n",
              " -0.00641255919,\n",
              " 0.00108580943,\n",
              " 0.00676929858,\n",
              " 0.0185191892,\n",
              " -0.0352058485,\n",
              " -0.020078199,\n",
              " -0.0258991923,\n",
              " 0.0221602265,\n",
              " -0.0217207987,\n",
              " 0.00538257323,\n",
              " 0.0286947563,\n",
              " -0.0315711722,\n",
              " -0.00774937,\n",
              " -0.0126827266,\n",
              " 0.00389304478,\n",
              " -0.00606953213,\n",
              " 0.0428886227,\n",
              " -0.0200498812,\n",
              " -0.00591467181,\n",
              " 0.00780972,\n",
              " -0.00188488129,\n",
              " -0.0388613269,\n",
              " -0.0107703777,\n",
              " -0.0371870622,\n",
              " -0.0383493453,\n",
              " -0.020658128,\n",
              " 0.013133442,\n",
              " -0.0132857161,\n",
              " -0.043488875,\n",
              " 0.0021443693,\n",
              " 0.0291965362,\n",
              " -0.0211431533,\n",
              " 0.0148725733,\n",
              " 0.0105403326,\n",
              " -0.0278748721,\n",
              " -0.00431712391,\n",
              " -0.0156509299,\n",
              " -0.0225888845,\n",
              " -0.007652523,\n",
              " 0.0136329094,\n",
              " -0.0277841464,\n",
              " 0.0129212392,\n",
              " 0.00923817512,\n",
              " 0.0257412232,\n",
              " -0.00882924162,\n",
              " 0.0311161783,\n",
              " -0.0197823923,\n",
              " 0.00445897039,\n",
              " -0.0304390434,\n",
              " -0.00513435621,\n",
              " 0.0191938039,\n",
              " -0.0343337208,\n",
              " -0.0141776372,\n",
              " 0.0201562308,\n",
              " -0.0113329887,\n",
              " 0.0148948357,\n",
              " -0.0171382483,\n",
              " -0.00122224097,\n",
              " -0.00293167587,\n",
              " -0.00367731182,\n",
              " -0.0144963646,\n",
              " -0.0103269601,\n",
              " 0.0299079679,\n",
              " -0.0070151547,\n",
              " 0.0318105146,\n",
              " -0.034930855,\n",
              " -0.0130871525,\n",
              " -0.0803459,\n",
              " 0.0169125199,\n",
              " -0.00571511267,\n",
              " 0.0087445,\n",
              " 0.0125526646,\n",
              " 0.0134070879,\n",
              " -0.00060726743,\n",
              " 0.0215098783,\n",
              " 0.0485873185,\n",
              " -0.0102657145,\n",
              " 0.0053524822,\n",
              " -0.0420853496,\n",
              " -0.00148706348,\n",
              " -0.0112427,\n",
              " 0.0263001025,\n",
              " -0.0183637552,\n",
              " -0.00628167158,\n",
              " 0.0369104743,\n",
              " 0.0305104107,\n",
              " -0.00808815472,\n",
              " 0.0241189841,\n",
              " -0.017989561,\n",
              " -0.00915030576,\n",
              " 0.00170807738,\n",
              " -0.0105867209,\n",
              " -0.0120262662,\n",
              " -0.00396401156,\n",
              " -0.0100317905,\n",
              " -0.00953619648,\n",
              " 0.00390956271,\n",
              " 0.046466697,\n",
              " 0.0350356475,\n",
              " -0.0185222644,\n",
              " 0.0439195335,\n",
              " 0.00648261234,\n",
              " 0.00889282953,\n",
              " -0.0378788039,\n",
              " 0.0109645324,\n",
              " 0.0229789857,\n",
              " -0.011920765,\n",
              " 0.00590293,\n",
              " 0.0124019692,\n",
              " 0.00818214193,\n",
              " 0.00332956854,\n",
              " -0.0643061623,\n",
              " 0.0107051376,\n",
              " 0.0143967569,\n",
              " 0.0222373195,\n",
              " -0.015705185,\n",
              " 0.0109588131,\n",
              " -0.00972099416,\n",
              " 0.0253332127,\n",
              " 0.0171462595,\n",
              " -0.00650559226,\n",
              " -0.0135499984,\n",
              " -0.151174977,\n",
              " -0.0131813465,\n",
              " 0.0208154116,\n",
              " -0.0430357456,\n",
              " 0.000870768912,\n",
              " -0.000325281289,\n",
              " 0.0188828576,\n",
              " 0.00797674432,\n",
              " -0.0270634349,\n",
              " -0.0463799201,\n",
              " 0.0400484651,\n",
              " -0.00464794459,\n",
              " -0.134840697,\n",
              " 0.0266361199,\n",
              " -0.0474076867,\n",
              " 0.0156245576,\n",
              " 0.00138821383,\n",
              " 0.00760770589,\n",
              " -0.00545217283,\n",
              " 0.00549766375,\n",
              " -0.0437054075,\n",
              " 0.0104831066,\n",
              " 0.0142631112,\n",
              " -0.0273693707,\n",
              " 0.0159626342,\n",
              " 0.00572808227,\n",
              " 0.0211920831,\n",
              " -0.0140814371,\n",
              " -0.00206510443,\n",
              " -0.0409340337,\n",
              " -0.0171282832,\n",
              " -0.0135023193,\n",
              " 0.00387022807,\n",
              " 0.0437183492,\n",
              " -0.00327389594,\n",
              " -0.0294981599,\n",
              " -0.0296663027,\n",
              " 0.00235110382,\n",
              " 0.0385520272,\n",
              " 0.0122941844,\n",
              " 0.0162303578,\n",
              " 0.0436428972,\n",
              " -0.0184239186,\n",
              " -0.00643938128,\n",
              " 0.0149783995,\n",
              " 0.0219304189,\n",
              " -0.00999646541,\n",
              " 0.0169757046,\n",
              " -0.0116592133,\n",
              " -0.079375878,\n",
              " 0.0203954354,\n",
              " -0.00553129101,\n",
              " 0.0043263617,\n",
              " -0.0263665933,\n",
              " 0.0235425979,\n",
              " 0.0331352912,\n",
              " -0.00492338231,\n",
              " 0.00624953723,\n",
              " -0.0279211085,\n",
              " -0.00953395478,\n",
              " -0.00904950406,\n",
              " -0.0101111922,\n",
              " 0.012849059,\n",
              " -0.0051102438,\n",
              " -0.00444359472,\n",
              " -0.011577907,\n",
              " -0.00234109443,\n",
              " 0.0297713894,\n",
              " 0.0160830952,\n",
              " 0.0537593663,\n",
              " -0.0109876236,\n",
              " -0.0379693955,\n",
              " -0.00141866098,\n",
              " 0.0066213673,\n",
              " 0.00471468922,\n",
              " -0.0112031354,\n",
              " 0.00787466671,\n",
              " 0.0350320563,\n",
              " 0.00584902894,\n",
              " -0.0305697881,\n",
              " 0.023594955,\n",
              " 0.0974315256,\n",
              " 0.0117655722,\n",
              " 0.0162316374,\n",
              " 0.0132781696,\n",
              " 0.0269228611,\n",
              " 0.0101900762,\n",
              " -0.0185616519,\n",
              " -0.187583342,\n",
              " 0.00100419251,\n",
              " -0.00766937388,\n",
              " 0.0138346814,\n",
              " -0.0257593896,\n",
              " 0.00661581848,\n",
              " -0.0210837685,\n",
              " -0.0224710461,\n",
              " -0.0155321611,\n",
              " 0.033474151,\n",
              " 0.0386427306,\n",
              " -0.00550807547,\n",
              " 0.00305140414,\n",
              " 0.00126513501,\n",
              " -0.027486315,\n",
              " 0.0181605499,\n",
              " 0.0547861643,\n",
              " 0.0115402872,\n",
              " -0.0111328792,\n",
              " 0.000631320698,\n",
              " -0.0252810363,\n",
              " -0.0260561109,\n",
              " -0.0294770934,\n",
              " -0.00814086292,\n",
              " 0.00968593732,\n",
              " 0.0270323399,\n",
              " -0.0177689921,\n",
              " -0.012869467,\n",
              " 0.0242821313,\n",
              " 0.0123073645,\n",
              " -0.0553498827,\n",
              " 0.00200940482,\n",
              " 0.00557178445,\n",
              " -0.0192833338,\n",
              " 0.0386228599,\n",
              " -0.0218438525,\n",
              " 0.022270957,\n",
              " -0.026981011,\n",
              " 0.0225765,\n",
              " -0.0219569467,\n",
              " -0.0251812022,\n",
              " -0.0114557864,\n",
              " 0.00386507204,\n",
              " -0.00117987988,\n",
              " -0.0306309536,\n",
              " 0.0463859588,\n",
              " -0.00130954443,\n",
              " -0.0250775982,\n",
              " 0.0110757481,\n",
              " -0.00475799339,\n",
              " 0.000424614555,\n",
              " 0.0237628222,\n",
              " 0.0184382889,\n",
              " -0.0156062813,\n",
              " 0.00600912469,\n",
              " -0.00625898,\n",
              " 0.032465484,\n",
              " -0.0196581781,\n",
              " -0.00782243721,\n",
              " -0.000518622517,\n",
              " 0.00310538057,\n",
              " -0.00624942454,\n",
              " 0.0185553543,\n",
              " -0.0391259901,\n",
              " 0.0073281955,\n",
              " -0.01320202,\n",
              " 0.00565289892,\n",
              " -0.0307886414,\n",
              " 0.0257247258,\n",
              " -0.0234650727,\n",
              " 0.0150762331,\n",
              " -0.0474453717,\n",
              " -0.00727718323,\n",
              " -0.00872348901,\n",
              " 0.0930649713,\n",
              " 0.0129651846,\n",
              " 0.0265455358,\n",
              " -0.0308028739,\n",
              " -0.00166289252,\n",
              " 0.00668109953,\n",
              " 0.0675528944,\n",
              " 0.00787405483,\n",
              " -0.0316251665,\n",
              " 0.0102303475,\n",
              " 0.0722240806,\n",
              " 0.0227304921,\n",
              " -0.0191097967,\n",
              " 0.00904719345,\n",
              " 0.00718278252,\n",
              " 0.0204807203,\n",
              " -0.033447437,\n",
              " 0.0325867,\n",
              " 0.0564787276,\n",
              " -0.0207542423,\n",
              " 0.000922440551,\n",
              " 0.0176860038,\n",
              " -0.00963048358,\n",
              " -0.00560235931,\n",
              " -0.0389009975,\n",
              " -0.0519401506,\n",
              " -0.00340426154,\n",
              " 0.0389501974,\n",
              " -0.00221311837,\n",
              " -0.023716839,\n",
              " 0.00821446627,\n",
              " -0.0310563985,\n",
              " -0.0505014062,\n",
              " -0.0134114018,\n",
              " 0.00866732467,\n",
              " 0.013225277,\n",
              " -0.0363255143,\n",
              " 0.0202007331,\n",
              " 0.00819231942,\n",
              " -0.0546480641,\n",
              " 0.0162814837,\n",
              " -0.0198417585,\n",
              " 0.0440656058,\n",
              " 0.021652963,\n",
              " -0.0243983455,\n",
              " 0.0127638942,\n",
              " -0.0204549078,\n",
              " 0.0217886493,\n",
              " 0.0177151076,\n",
              " 0.00417096773,\n",
              " 0.00120769313,\n",
              " 0.0436000302,\n",
              " -0.0036498243,\n",
              " -0.023382958,\n",
              " -0.0554738231,\n",
              " 0.000319903047,\n",
              " -0.026608089,\n",
              " 0.0157784205,\n",
              " -0.0173779372,\n",
              " -0.0278306287,\n",
              " 0.00258801016,\n",
              " 0.0192641299,\n",
              " -0.0601964518,\n",
              " -0.0140364617,\n",
              " 0.00442948239,\n",
              " -0.0188262984,\n",
              " -0.000798425754,\n",
              " 0.0186640862,\n",
              " -0.0117941536,\n",
              " -0.0454074852,\n",
              " -0.0456470586,\n",
              " 0.00770975929,\n",
              " 0.0334285,\n",
              " 0.00301067973,\n",
              " -0.00473255664,\n",
              " -0.0253572464,\n",
              " 0.0369938314,\n",
              " -0.0308325943,\n",
              " 0.0435829349,\n",
              " -0.00598057639,\n",
              " -0.00759642897,\n",
              " 0.0707176402,\n",
              " -0.0164363533,\n",
              " -0.0182071757,\n",
              " 0.02148146,\n",
              " -0.0206798185,\n",
              " 0.00518991,\n",
              " -0.0146599775,\n",
              " -0.00560051203,\n",
              " -0.0108708339,\n",
              " -0.0162006468,\n",
              " 0.0188196786,\n",
              " -0.0341924317,\n",
              " -0.0210439544,\n",
              " -0.0374295935,\n",
              " -0.00825450942,\n",
              " 0.0203569215,\n",
              " -0.0101860836,\n",
              " 0.00897504,\n",
              " -0.0212566182,\n",
              " 0.00615952676,\n",
              " 0.0162023567,\n",
              " 0.0110629089,\n",
              " -0.0142923836,\n",
              " 0.0259280987,\n",
              " 0.0065962337,\n",
              " -0.0268036425,\n",
              " -0.00234475383,\n",
              " -0.00839172583,\n",
              " 0.00601402903,\n",
              " -0.00479550753,\n",
              " -0.0173630528,\n",
              " 0.0631822348,\n",
              " -0.0116740726,\n",
              " 0.00349984155,\n",
              " -0.00443847105,\n",
              " 0.00937573705,\n",
              " 0.0170931313,\n",
              " -0.0118156727,\n",
              " 0.00166498986,\n",
              " 0.0136624882,\n",
              " -0.036457669,\n",
              " -0.0439998507,\n",
              " 0.00805999152,\n",
              " -0.0146082733,\n",
              " -0.00144216081,\n",
              " -0.00184389763,\n",
              " -0.05122637,\n",
              " -0.0248646513,\n",
              " -0.0264558904,\n",
              " -0.00602361327,\n",
              " 0.035201598,\n",
              " 0.0182662811,\n",
              " -0.0095281573,\n",
              " -0.00459362194,\n",
              " 0.0187126603,\n",
              " 0.00180480955,\n",
              " 0.00975646824,\n",
              " -0.0234601405,\n",
              " 0.0133007811,\n",
              " -0.00294652535,\n",
              " 0.0869980454,\n",
              " 0.00794694666,\n",
              " -0.0210523158,\n",
              " -0.0169211961,\n",
              " -0.0171473138,\n",
              " 0.0106224883,\n",
              " -0.016967399,\n",
              " -0.0386089794,\n",
              " 0.0290181376,\n",
              " -0.0478223041,\n",
              " -0.00352566387,\n",
              " -0.00991091691,\n",
              " 0.0333534665,\n",
              " 0.00815267302,\n",
              " 0.00375415944,\n",
              " -0.0198574066,\n",
              " -0.00673733698,\n",
              " 0.0077216425,\n",
              " -0.0468220264,\n",
              " 0.0468484499,\n",
              " -0.00488938903,\n",
              " -0.0093670506,\n",
              " 0.00589954806,\n",
              " -0.00825532526,\n",
              " 0.0286774077,\n",
              " 0.00741415657,\n",
              " 0.0109893624,\n",
              " -0.0386588462,\n",
              " -0.0234071035,\n",
              " 0.00271138782,\n",
              " -0.0273525193,\n",
              " 0.0164899882,\n",
              " 0.00269812252,\n",
              " 0.00527762342,\n",
              " 0.0120628886,\n",
              " -0.0227057021,\n",
              " -0.0150463218,\n",
              " ...]"
            ]
          },
          "execution_count": 19,
          "metadata": {},
          "output_type": "execute_result"
        }
      ],
      "source": [
        "embeddings.image_embedding"
      ]
    },
    {
      "cell_type": "code",
      "execution_count": 20,
      "id": "UE6SRN1t3wEv",
      "metadata": {
        "id": "UE6SRN1t3wEv"
      },
      "outputs": [],
      "source": [
        "# Perform the vector search against AstraDB Vector\n",
        "documents = collection.vector_find(\n",
        "    embeddings.image_embedding,\n",
        "    limit=3,\n",
        ")"
      ]
    },
    {
      "cell_type": "code",
      "execution_count": 21,
      "id": "5rhq7QNQrM-f",
      "metadata": {
        "colab": {
          "base_uri": "https://localhost:8080/"
        },
        "id": "5rhq7QNQrM-f",
        "outputId": "fe060b2a-8c1a-4129-9f3d-6bb9943afa9d"
      },
      "outputs": [
        {
          "data": {
            "text/plain": [
              "[{'_id': 14,\n",
              "  'name': 'Filter 2 Cup 50mm',\n",
              "  'image': 'https://www.breville.com/content/dam/breville/us/catalog/products/images/sp0/sp0000166/tile.jpg',\n",
              "  'url': 'https://www.breville.com/us/en/parts-accessories/parts/sp0000166.html?sku=SP0000166',\n",
              "  'price': '11.95',\n",
              "  '$similarity': 0.91382},\n",
              " {'_id': 9,\n",
              "  'name': 'Filter 2 Cup Dual Wall 50mm',\n",
              "  'image': 'https://www.breville.com/content/dam/breville/au/catalog/products/images/sp0/sp0003231/tile.jpg',\n",
              "  'url': 'https://www.breville.com/us/en/parts-accessories/parts/sp0003231.html?sku=SP0003231',\n",
              "  'price': '12.95',\n",
              "  '$similarity': 0.9138188},\n",
              " {'_id': 10,\n",
              "  'name': 'Filter 1 Cup 50mm',\n",
              "  'image': 'https://www.breville.com/content/dam/breville/au/catalog/products/images/sp0/sp0003230/tile.jpg',\n",
              "  'url': 'https://www.breville.com/us/en/parts-accessories/parts/sp0003230.html?sku=SP0003230',\n",
              "  'price': '12.95',\n",
              "  '$similarity': 0.9118568}]"
            ]
          },
          "execution_count": 21,
          "metadata": {},
          "output_type": "execute_result"
        }
      ],
      "source": [
        "documents"
      ]
    },
    {
      "cell_type": "code",
      "execution_count": 22,
      "id": "4eTwAQKH3yD6",
      "metadata": {
        "id": "4eTwAQKH3yD6"
      },
      "outputs": [],
      "source": [
        "related_products_csv = \"name, image, price, url\\n\"\n",
        "for doc in documents:\n",
        "  related_products_csv += f\"{doc['name']}, {doc['image']}, {doc['price']}, {doc['url']},\\n\""
      ]
    },
    {
      "cell_type": "code",
      "execution_count": 23,
      "id": "T-A4o7wIrmTj",
      "metadata": {
        "colab": {
          "base_uri": "https://localhost:8080/"
        },
        "id": "T-A4o7wIrmTj",
        "outputId": "c7a7b0bd-883d-4406-91ec-dc5d3ddc7b6b"
      },
      "outputs": [
        {
          "name": "stdout",
          "output_type": "stream",
          "text": [
            "name, image, price, url\n",
            "Filter 2 Cup 50mm, https://www.breville.com/content/dam/breville/us/catalog/products/images/sp0/sp0000166/tile.jpg, 11.95, https://www.breville.com/us/en/parts-accessories/parts/sp0000166.html?sku=SP0000166,\n",
            "Filter 2 Cup Dual Wall 50mm, https://www.breville.com/content/dam/breville/au/catalog/products/images/sp0/sp0003231/tile.jpg, 12.95, https://www.breville.com/us/en/parts-accessories/parts/sp0003231.html?sku=SP0003231,\n",
            "Filter 1 Cup 50mm, https://www.breville.com/content/dam/breville/au/catalog/products/images/sp0/sp0003230/tile.jpg, 12.95, https://www.breville.com/us/en/parts-accessories/parts/sp0003230.html?sku=SP0003230,\n",
            "\n"
          ]
        }
      ],
      "source": [
        "print(related_products_csv)"
      ]
    },
    {
      "cell_type": "code",
      "execution_count": null,
      "id": "Li-fX8pz30kz",
      "metadata": {
        "id": "Li-fX8pz30kz"
      },
      "outputs": [],
      "source": [
        "image_message = {\n",
        "    \"type\": \"image_url\",\n",
        "    \"image_url\": {\"url\": \"/content/coffee_maker_part.png\"},\n",
        "}\n",
        "text_message = {\n",
        "    \"type\": \"text\",\n",
        "    \"text\": f\"What we have in this image? Share the URL and price to purchase a replacement. Here are related products {related_products_csv}\",\n",
        "}"
      ]
    },
    {
      "cell_type": "code",
      "execution_count": 29,
      "id": "57KzUhbd4B2e",
      "metadata": {
        "id": "57KzUhbd4B2e"
      },
      "outputs": [],
      "source": [
        "message = HumanMessage(content=[text_message, image_message])\n"
      ]
    },
    {
      "cell_type": "code",
      "execution_count": 30,
      "id": "Q7_Ktwg7tBTR",
      "metadata": {
        "id": "Q7_Ktwg7tBTR"
      },
      "outputs": [],
      "source": [
        "chat = ChatVertexAI(model_name=\"gemini-2.0-flash-001\")"
      ]
    },
    {
      "cell_type": "code",
      "execution_count": 31,
      "id": "opNLdOPw4DTk",
      "metadata": {
        "id": "opNLdOPw4DTk"
      },
      "outputs": [
        {
          "ename": "ValueError",
          "evalue": "Support for loading local files has been removed for security reasons. Please pass in images as one of: Google Cloud Storage URI, b64 encoded image string (data:image/...), or valid image url. ",
          "output_type": "error",
          "traceback": [
            "\u001b[31m---------------------------------------------------------------------------\u001b[39m",
            "\u001b[31mValueError\u001b[39m                                Traceback (most recent call last)",
            "\u001b[36mCell\u001b[39m\u001b[36m \u001b[39m\u001b[32mIn[31]\u001b[39m\u001b[32m, line 1\u001b[39m\n\u001b[32m----> \u001b[39m\u001b[32m1\u001b[39m output = \u001b[43mchat\u001b[49m\u001b[43m(\u001b[49m\u001b[43m[\u001b[49m\u001b[43mmessage\u001b[49m\u001b[43m]\u001b[49m\u001b[43m)\u001b[49m\n",
            "\u001b[36mFile \u001b[39m\u001b[32m~/Documents/Personal/Codes/AgenticAIWorkspace/gcp_rag/.venv/lib/python3.11/site-packages/langchain_core/_api/deprecation.py:191\u001b[39m, in \u001b[36mdeprecated.<locals>.deprecate.<locals>.warning_emitting_wrapper\u001b[39m\u001b[34m(*args, **kwargs)\u001b[39m\n\u001b[32m    189\u001b[39m     warned = \u001b[38;5;28;01mTrue\u001b[39;00m\n\u001b[32m    190\u001b[39m     emit_warning()\n\u001b[32m--> \u001b[39m\u001b[32m191\u001b[39m \u001b[38;5;28;01mreturn\u001b[39;00m \u001b[43mwrapped\u001b[49m\u001b[43m(\u001b[49m\u001b[43m*\u001b[49m\u001b[43margs\u001b[49m\u001b[43m,\u001b[49m\u001b[43m \u001b[49m\u001b[43m*\u001b[49m\u001b[43m*\u001b[49m\u001b[43mkwargs\u001b[49m\u001b[43m)\u001b[49m\n",
            "\u001b[36mFile \u001b[39m\u001b[32m~/Documents/Personal/Codes/AgenticAIWorkspace/gcp_rag/.venv/lib/python3.11/site-packages/langchain_core/language_models/chat_models.py:1200\u001b[39m, in \u001b[36mBaseChatModel.__call__\u001b[39m\u001b[34m(self, messages, stop, callbacks, **kwargs)\u001b[39m\n\u001b[32m   1178\u001b[39m \u001b[38;5;129m@deprecated\u001b[39m(\u001b[33m\"\u001b[39m\u001b[33m0.1.7\u001b[39m\u001b[33m\"\u001b[39m, alternative=\u001b[33m\"\u001b[39m\u001b[33minvoke\u001b[39m\u001b[33m\"\u001b[39m, removal=\u001b[33m\"\u001b[39m\u001b[33m1.0\u001b[39m\u001b[33m\"\u001b[39m)\n\u001b[32m   1179\u001b[39m \u001b[38;5;28;01mdef\u001b[39;00m\u001b[38;5;250m \u001b[39m\u001b[34m__call__\u001b[39m(\n\u001b[32m   1180\u001b[39m     \u001b[38;5;28mself\u001b[39m,\n\u001b[32m   (...)\u001b[39m\u001b[32m   1184\u001b[39m     **kwargs: Any,\n\u001b[32m   1185\u001b[39m ) -> BaseMessage:\n\u001b[32m   1186\u001b[39m \u001b[38;5;250m    \u001b[39m\u001b[33;03m\"\"\"Call the model.\u001b[39;00m\n\u001b[32m   1187\u001b[39m \n\u001b[32m   1188\u001b[39m \u001b[33;03m    Args:\u001b[39;00m\n\u001b[32m   (...)\u001b[39m\u001b[32m   1198\u001b[39m \u001b[33;03m        The model output message.\u001b[39;00m\n\u001b[32m   1199\u001b[39m \u001b[33;03m    \"\"\"\u001b[39;00m\n\u001b[32m-> \u001b[39m\u001b[32m1200\u001b[39m     generation = \u001b[38;5;28;43mself\u001b[39;49m\u001b[43m.\u001b[49m\u001b[43mgenerate\u001b[49m\u001b[43m(\u001b[49m\n\u001b[32m   1201\u001b[39m \u001b[43m        \u001b[49m\u001b[43m[\u001b[49m\u001b[43mmessages\u001b[49m\u001b[43m]\u001b[49m\u001b[43m,\u001b[49m\u001b[43m \u001b[49m\u001b[43mstop\u001b[49m\u001b[43m=\u001b[49m\u001b[43mstop\u001b[49m\u001b[43m,\u001b[49m\u001b[43m \u001b[49m\u001b[43mcallbacks\u001b[49m\u001b[43m=\u001b[49m\u001b[43mcallbacks\u001b[49m\u001b[43m,\u001b[49m\u001b[43m \u001b[49m\u001b[43m*\u001b[49m\u001b[43m*\u001b[49m\u001b[43mkwargs\u001b[49m\n\u001b[32m   1202\u001b[39m \u001b[43m    \u001b[49m\u001b[43m)\u001b[49m.generations[\u001b[32m0\u001b[39m][\u001b[32m0\u001b[39m]\n\u001b[32m   1203\u001b[39m     \u001b[38;5;28;01mif\u001b[39;00m \u001b[38;5;28misinstance\u001b[39m(generation, ChatGeneration):\n\u001b[32m   1204\u001b[39m         \u001b[38;5;28;01mreturn\u001b[39;00m generation.message\n",
            "\u001b[36mFile \u001b[39m\u001b[32m~/Documents/Personal/Codes/AgenticAIWorkspace/gcp_rag/.venv/lib/python3.11/site-packages/langchain_core/language_models/chat_models.py:775\u001b[39m, in \u001b[36mBaseChatModel.generate\u001b[39m\u001b[34m(self, messages, stop, callbacks, tags, metadata, run_name, run_id, **kwargs)\u001b[39m\n\u001b[32m    772\u001b[39m \u001b[38;5;28;01mfor\u001b[39;00m i, m \u001b[38;5;129;01min\u001b[39;00m \u001b[38;5;28menumerate\u001b[39m(input_messages):\n\u001b[32m    773\u001b[39m     \u001b[38;5;28;01mtry\u001b[39;00m:\n\u001b[32m    774\u001b[39m         results.append(\n\u001b[32m--> \u001b[39m\u001b[32m775\u001b[39m             \u001b[38;5;28;43mself\u001b[39;49m\u001b[43m.\u001b[49m\u001b[43m_generate_with_cache\u001b[49m\u001b[43m(\u001b[49m\n\u001b[32m    776\u001b[39m \u001b[43m                \u001b[49m\u001b[43mm\u001b[49m\u001b[43m,\u001b[49m\n\u001b[32m    777\u001b[39m \u001b[43m                \u001b[49m\u001b[43mstop\u001b[49m\u001b[43m=\u001b[49m\u001b[43mstop\u001b[49m\u001b[43m,\u001b[49m\n\u001b[32m    778\u001b[39m \u001b[43m                \u001b[49m\u001b[43mrun_manager\u001b[49m\u001b[43m=\u001b[49m\u001b[43mrun_managers\u001b[49m\u001b[43m[\u001b[49m\u001b[43mi\u001b[49m\u001b[43m]\u001b[49m\u001b[43m \u001b[49m\u001b[38;5;28;43;01mif\u001b[39;49;00m\u001b[43m \u001b[49m\u001b[43mrun_managers\u001b[49m\u001b[43m \u001b[49m\u001b[38;5;28;43;01melse\u001b[39;49;00m\u001b[43m \u001b[49m\u001b[38;5;28;43;01mNone\u001b[39;49;00m\u001b[43m,\u001b[49m\n\u001b[32m    779\u001b[39m \u001b[43m                \u001b[49m\u001b[43m*\u001b[49m\u001b[43m*\u001b[49m\u001b[43mkwargs\u001b[49m\u001b[43m,\u001b[49m\n\u001b[32m    780\u001b[39m \u001b[43m            \u001b[49m\u001b[43m)\u001b[49m\n\u001b[32m    781\u001b[39m         )\n\u001b[32m    782\u001b[39m     \u001b[38;5;28;01mexcept\u001b[39;00m \u001b[38;5;167;01mBaseException\u001b[39;00m \u001b[38;5;28;01mas\u001b[39;00m e:\n\u001b[32m    783\u001b[39m         \u001b[38;5;28;01mif\u001b[39;00m run_managers:\n",
            "\u001b[36mFile \u001b[39m\u001b[32m~/Documents/Personal/Codes/AgenticAIWorkspace/gcp_rag/.venv/lib/python3.11/site-packages/langchain_core/language_models/chat_models.py:1021\u001b[39m, in \u001b[36mBaseChatModel._generate_with_cache\u001b[39m\u001b[34m(self, messages, stop, run_manager, **kwargs)\u001b[39m\n\u001b[32m   1019\u001b[39m     result = generate_from_stream(\u001b[38;5;28miter\u001b[39m(chunks))\n\u001b[32m   1020\u001b[39m \u001b[38;5;28;01melif\u001b[39;00m inspect.signature(\u001b[38;5;28mself\u001b[39m._generate).parameters.get(\u001b[33m\"\u001b[39m\u001b[33mrun_manager\u001b[39m\u001b[33m\"\u001b[39m):\n\u001b[32m-> \u001b[39m\u001b[32m1021\u001b[39m     result = \u001b[38;5;28;43mself\u001b[39;49m\u001b[43m.\u001b[49m\u001b[43m_generate\u001b[49m\u001b[43m(\u001b[49m\n\u001b[32m   1022\u001b[39m \u001b[43m        \u001b[49m\u001b[43mmessages\u001b[49m\u001b[43m,\u001b[49m\u001b[43m \u001b[49m\u001b[43mstop\u001b[49m\u001b[43m=\u001b[49m\u001b[43mstop\u001b[49m\u001b[43m,\u001b[49m\u001b[43m \u001b[49m\u001b[43mrun_manager\u001b[49m\u001b[43m=\u001b[49m\u001b[43mrun_manager\u001b[49m\u001b[43m,\u001b[49m\u001b[43m \u001b[49m\u001b[43m*\u001b[49m\u001b[43m*\u001b[49m\u001b[43mkwargs\u001b[49m\n\u001b[32m   1023\u001b[39m \u001b[43m    \u001b[49m\u001b[43m)\u001b[49m\n\u001b[32m   1024\u001b[39m \u001b[38;5;28;01melse\u001b[39;00m:\n\u001b[32m   1025\u001b[39m     result = \u001b[38;5;28mself\u001b[39m._generate(messages, stop=stop, **kwargs)\n",
            "\u001b[36mFile \u001b[39m\u001b[32m~/Documents/Personal/Codes/AgenticAIWorkspace/gcp_rag/.venv/lib/python3.11/site-packages/langchain_google_vertexai/chat_models.py:1417\u001b[39m, in \u001b[36mChatVertexAI._generate\u001b[39m\u001b[34m(self, messages, stop, run_manager, stream, **kwargs)\u001b[39m\n\u001b[32m   1415\u001b[39m \u001b[38;5;28;01mif\u001b[39;00m \u001b[38;5;129;01mnot\u001b[39;00m \u001b[38;5;28mself\u001b[39m._is_gemini_model:\n\u001b[32m   1416\u001b[39m     \u001b[38;5;28;01mreturn\u001b[39;00m \u001b[38;5;28mself\u001b[39m._generate_non_gemini(messages, stop=stop, **kwargs)\n\u001b[32m-> \u001b[39m\u001b[32m1417\u001b[39m \u001b[38;5;28;01mreturn\u001b[39;00m \u001b[38;5;28;43mself\u001b[39;49m\u001b[43m.\u001b[49m\u001b[43m_generate_gemini\u001b[49m\u001b[43m(\u001b[49m\n\u001b[32m   1418\u001b[39m \u001b[43m    \u001b[49m\u001b[43mmessages\u001b[49m\u001b[43m=\u001b[49m\u001b[43mmessages\u001b[49m\u001b[43m,\u001b[49m\n\u001b[32m   1419\u001b[39m \u001b[43m    \u001b[49m\u001b[43mstop\u001b[49m\u001b[43m=\u001b[49m\u001b[43mstop\u001b[49m\u001b[43m,\u001b[49m\n\u001b[32m   1420\u001b[39m \u001b[43m    \u001b[49m\u001b[43mrun_manager\u001b[49m\u001b[43m=\u001b[49m\u001b[43mrun_manager\u001b[49m\u001b[43m,\u001b[49m\n\u001b[32m   1421\u001b[39m \u001b[43m    \u001b[49m\u001b[43mis_gemini\u001b[49m\u001b[43m=\u001b[49m\u001b[38;5;28;43;01mTrue\u001b[39;49;00m\u001b[43m,\u001b[49m\n\u001b[32m   1422\u001b[39m \u001b[43m    \u001b[49m\u001b[43m*\u001b[49m\u001b[43m*\u001b[49m\u001b[43mkwargs\u001b[49m\u001b[43m,\u001b[49m\n\u001b[32m   1423\u001b[39m \u001b[43m\u001b[49m\u001b[43m)\u001b[49m\n",
            "\u001b[36mFile \u001b[39m\u001b[32m~/Documents/Personal/Codes/AgenticAIWorkspace/gcp_rag/.venv/lib/python3.11/site-packages/langchain_google_vertexai/chat_models.py:1652\u001b[39m, in \u001b[36mChatVertexAI._generate_gemini\u001b[39m\u001b[34m(self, messages, stop, run_manager, **kwargs)\u001b[39m\n\u001b[32m   1645\u001b[39m \u001b[38;5;28;01mdef\u001b[39;00m\u001b[38;5;250m \u001b[39m\u001b[34m_generate_gemini\u001b[39m(\n\u001b[32m   1646\u001b[39m     \u001b[38;5;28mself\u001b[39m,\n\u001b[32m   1647\u001b[39m     messages: List[BaseMessage],\n\u001b[32m   (...)\u001b[39m\u001b[32m   1650\u001b[39m     **kwargs: Any,\n\u001b[32m   1651\u001b[39m ) -> ChatResult:\n\u001b[32m-> \u001b[39m\u001b[32m1652\u001b[39m     request = \u001b[38;5;28;43mself\u001b[39;49m\u001b[43m.\u001b[49m\u001b[43m_prepare_request_gemini\u001b[49m\u001b[43m(\u001b[49m\u001b[43mmessages\u001b[49m\u001b[43m=\u001b[49m\u001b[43mmessages\u001b[49m\u001b[43m,\u001b[49m\u001b[43m \u001b[49m\u001b[43mstop\u001b[49m\u001b[43m=\u001b[49m\u001b[43mstop\u001b[49m\u001b[43m,\u001b[49m\u001b[43m \u001b[49m\u001b[43m*\u001b[49m\u001b[43m*\u001b[49m\u001b[43mkwargs\u001b[49m\u001b[43m)\u001b[49m\n\u001b[32m   1653\u001b[39m     response = _completion_with_retry(\n\u001b[32m   1654\u001b[39m         \u001b[38;5;28mself\u001b[39m.prediction_client.generate_content,\n\u001b[32m   1655\u001b[39m         max_retries=\u001b[38;5;28mself\u001b[39m.max_retries,\n\u001b[32m   (...)\u001b[39m\u001b[32m   1660\u001b[39m         **kwargs,\n\u001b[32m   1661\u001b[39m     )\n\u001b[32m   1662\u001b[39m     \u001b[38;5;28;01mreturn\u001b[39;00m \u001b[38;5;28mself\u001b[39m._gemini_response_to_chat_result(response)\n",
            "\u001b[36mFile \u001b[39m\u001b[32m~/Documents/Personal/Codes/AgenticAIWorkspace/gcp_rag/.venv/lib/python3.11/site-packages/langchain_google_vertexai/chat_models.py:1507\u001b[39m, in \u001b[36mChatVertexAI._prepare_request_gemini\u001b[39m\u001b[34m(self, messages, stop, stream, tools, functions, tool_config, safety_settings, cached_content, tool_choice, logprobs, **kwargs)\u001b[39m\n\u001b[32m   1492\u001b[39m \u001b[38;5;28;01mdef\u001b[39;00m\u001b[38;5;250m \u001b[39m\u001b[34m_prepare_request_gemini\u001b[39m(\n\u001b[32m   1493\u001b[39m     \u001b[38;5;28mself\u001b[39m,\n\u001b[32m   1494\u001b[39m     messages: List[BaseMessage],\n\u001b[32m   (...)\u001b[39m\u001b[32m   1505\u001b[39m     **kwargs,\n\u001b[32m   1506\u001b[39m ) -> Union[v1GenerateContentRequest, GenerateContentRequest]:\n\u001b[32m-> \u001b[39m\u001b[32m1507\u001b[39m     system_instruction, contents = \u001b[43m_parse_chat_history_gemini\u001b[49m\u001b[43m(\u001b[49m\n\u001b[32m   1508\u001b[39m \u001b[43m        \u001b[49m\u001b[43mmessages\u001b[49m\u001b[43m,\u001b[49m\n\u001b[32m   1509\u001b[39m \u001b[43m        \u001b[49m\u001b[38;5;28;43mself\u001b[39;49m\u001b[43m.\u001b[49m\u001b[43m_image_bytes_loader_client\u001b[49m\u001b[43m,\u001b[49m\n\u001b[32m   1510\u001b[39m \u001b[43m        \u001b[49m\u001b[43mperform_literal_eval_on_string_raw_content\u001b[49m\u001b[43m=\u001b[49m\u001b[38;5;28;43mself\u001b[39;49m\u001b[43m.\u001b[49m\u001b[43mperform_literal_eval_on_string_raw_content\u001b[49m\u001b[43m,\u001b[49m\n\u001b[32m   1511\u001b[39m \u001b[43m    \u001b[49m\u001b[43m)\u001b[49m\n\u001b[32m   1512\u001b[39m     formatted_tools = \u001b[38;5;28mself\u001b[39m._tools_gemini(tools=tools, functions=functions)\n\u001b[32m   1513\u001b[39m     \u001b[38;5;28;01mif\u001b[39;00m tool_config:\n",
            "\u001b[36mFile \u001b[39m\u001b[32m~/Documents/Personal/Codes/AgenticAIWorkspace/gcp_rag/.venv/lib/python3.11/site-packages/langchain_google_vertexai/chat_models.py:347\u001b[39m, in \u001b[36m_parse_chat_history_gemini\u001b[39m\u001b[34m(history, imageBytesLoader, convert_system_message_to_human, perform_literal_eval_on_string_raw_content)\u001b[39m\n\u001b[32m    345\u001b[39m prev_ai_message = \u001b[38;5;28;01mNone\u001b[39;00m\n\u001b[32m    346\u001b[39m role = \u001b[33m\"\u001b[39m\u001b[33muser\u001b[39m\u001b[33m\"\u001b[39m\n\u001b[32m--> \u001b[39m\u001b[32m347\u001b[39m parts = \u001b[43m_convert_to_parts\u001b[49m\u001b[43m(\u001b[49m\u001b[43mmessage\u001b[49m\u001b[43m)\u001b[49m\n\u001b[32m    348\u001b[39m \u001b[38;5;28;01mif\u001b[39;00m system_parts \u001b[38;5;129;01mis\u001b[39;00m \u001b[38;5;129;01mnot\u001b[39;00m \u001b[38;5;28;01mNone\u001b[39;00m:\n\u001b[32m    349\u001b[39m     parts = system_parts + parts\n",
            "\u001b[36mFile \u001b[39m\u001b[32m~/Documents/Personal/Codes/AgenticAIWorkspace/gcp_rag/.venv/lib/python3.11/site-packages/langchain_google_vertexai/chat_models.py:315\u001b[39m, in \u001b[36m_parse_chat_history_gemini.<locals>._convert_to_parts\u001b[39m\u001b[34m(message)\u001b[39m\n\u001b[32m    313\u001b[39m result = []\n\u001b[32m    314\u001b[39m \u001b[38;5;28;01mfor\u001b[39;00m raw_part \u001b[38;5;129;01min\u001b[39;00m raw_content:\n\u001b[32m--> \u001b[39m\u001b[32m315\u001b[39m     part = \u001b[43m_convert_to_prompt\u001b[49m\u001b[43m(\u001b[49m\u001b[43mraw_part\u001b[49m\u001b[43m)\u001b[49m\n\u001b[32m    316\u001b[39m     \u001b[38;5;28;01mif\u001b[39;00m part:\n\u001b[32m    317\u001b[39m         result.append(part)\n",
            "\u001b[36mFile \u001b[39m\u001b[32m~/Documents/Personal/Codes/AgenticAIWorkspace/gcp_rag/.venv/lib/python3.11/site-packages/langchain_google_vertexai/chat_models.py:262\u001b[39m, in \u001b[36m_parse_chat_history_gemini.<locals>._convert_to_prompt\u001b[39m\u001b[34m(part)\u001b[39m\n\u001b[32m    260\u001b[39m \u001b[38;5;28;01mif\u001b[39;00m part[\u001b[33m\"\u001b[39m\u001b[33mtype\u001b[39m\u001b[33m\"\u001b[39m] == \u001b[33m\"\u001b[39m\u001b[33mimage_url\u001b[39m\u001b[33m\"\u001b[39m:\n\u001b[32m    261\u001b[39m     path = part[\u001b[33m\"\u001b[39m\u001b[33mimage_url\u001b[39m\u001b[33m\"\u001b[39m][\u001b[33m\"\u001b[39m\u001b[33murl\u001b[39m\u001b[33m\"\u001b[39m]\n\u001b[32m--> \u001b[39m\u001b[32m262\u001b[39m     \u001b[38;5;28;01mreturn\u001b[39;00m \u001b[43mimageBytesLoader\u001b[49m\u001b[43m.\u001b[49m\u001b[43mload_gapic_part\u001b[49m\u001b[43m(\u001b[49m\u001b[43mpath\u001b[49m\u001b[43m)\u001b[49m\n\u001b[32m    264\u001b[39m \u001b[38;5;66;03m# Handle media type like LangChain.js\u001b[39;00m\n\u001b[32m    265\u001b[39m \u001b[38;5;66;03m# https://github.com/langchain-ai/langchainjs/blob/e536593e2585f1dd7b0afc187de4d07cb40689ba/libs/langchain-google-common/src/utils/gemini.ts#L93-L106\u001b[39;00m\n\u001b[32m    266\u001b[39m \u001b[38;5;28;01mif\u001b[39;00m part[\u001b[33m\"\u001b[39m\u001b[33mtype\u001b[39m\u001b[33m\"\u001b[39m] == \u001b[33m\"\u001b[39m\u001b[33mmedia\u001b[39m\u001b[33m\"\u001b[39m:\n",
            "\u001b[36mFile \u001b[39m\u001b[32m~/Documents/Personal/Codes/AgenticAIWorkspace/gcp_rag/.venv/lib/python3.11/site-packages/langchain_google_vertexai/_image_utils.py:132\u001b[39m, in \u001b[36mImageBytesLoader.load_gapic_part\u001b[39m\u001b[34m(self, image_string)\u001b[39m\n\u001b[32m    131\u001b[39m \u001b[38;5;28;01mdef\u001b[39;00m\u001b[38;5;250m \u001b[39m\u001b[34mload_gapic_part\u001b[39m(\u001b[38;5;28mself\u001b[39m, image_string: \u001b[38;5;28mstr\u001b[39m) -> GapicPart:\n\u001b[32m--> \u001b[39m\u001b[32m132\u001b[39m     part = \u001b[38;5;28;43mself\u001b[39;49m\u001b[43m.\u001b[49m\u001b[43mload_part\u001b[49m\u001b[43m(\u001b[49m\u001b[43mimage_string\u001b[49m\u001b[43m)\u001b[49m\n\u001b[32m    133\u001b[39m     \u001b[38;5;28;01mreturn\u001b[39;00m part._raw_part\n",
            "\u001b[36mFile \u001b[39m\u001b[32m~/Documents/Personal/Codes/AgenticAIWorkspace/gcp_rag/.venv/lib/python3.11/site-packages/langchain_google_vertexai/_image_utils.py:123\u001b[39m, in \u001b[36mImageBytesLoader.load_part\u001b[39m\u001b[34m(self, image_string)\u001b[39m\n\u001b[32m    116\u001b[39m \u001b[38;5;28;01mif\u001b[39;00m route == Route.LOCAL_FILE:\n\u001b[32m    117\u001b[39m     msg = (\n\u001b[32m    118\u001b[39m         \u001b[33m\"\u001b[39m\u001b[33mSupport for loading local files has been removed for security \u001b[39m\u001b[33m\"\u001b[39m\n\u001b[32m    119\u001b[39m         \u001b[33m\"\u001b[39m\u001b[33mreasons. Please pass in images as one of: \u001b[39m\u001b[33m\"\u001b[39m\n\u001b[32m    120\u001b[39m         \u001b[33m\"\u001b[39m\u001b[33mGoogle Cloud Storage URI, b64 encoded image string (data:image/...), \u001b[39m\u001b[33m\"\u001b[39m\n\u001b[32m    121\u001b[39m         \u001b[33m\"\u001b[39m\u001b[33mor valid image url. \u001b[39m\u001b[33m\"\u001b[39m\n\u001b[32m    122\u001b[39m     )\n\u001b[32m--> \u001b[39m\u001b[32m123\u001b[39m     \u001b[38;5;28;01mraise\u001b[39;00m \u001b[38;5;167;01mValueError\u001b[39;00m(msg)\n\u001b[32m    125\u001b[39m mime_type = \u001b[38;5;28mself\u001b[39m._has_known_mimetype(image_string)\n\u001b[32m    126\u001b[39m \u001b[38;5;28;01mif\u001b[39;00m mime_type:\n",
            "\u001b[31mValueError\u001b[39m: Support for loading local files has been removed for security reasons. Please pass in images as one of: Google Cloud Storage URI, b64 encoded image string (data:image/...), or valid image url. "
          ]
        }
      ],
      "source": [
        "output = chat([message])"
      ]
    },
    {
      "cell_type": "code",
      "execution_count": null,
      "id": "rUDI6iZyY-yc",
      "metadata": {
        "colab": {
          "base_uri": "https://localhost:8080/"
        },
        "id": "rUDI6iZyY-yc",
        "outputId": "6a8f479d-23a4-4652-ee9f-7032bc03e07a"
      },
      "outputs": [],
      "source": [
        "print(output.content)"
      ]
    },
    {
      "cell_type": "code",
      "execution_count": null,
      "id": "SWqUjjMMWWfH",
      "metadata": {
        "id": "SWqUjjMMWWfH"
      },
      "outputs": [],
      "source": []
    }
  ],
  "metadata": {
    "colab": {
      "provenance": []
    },
    "kernelspec": {
      "display_name": ".venv",
      "language": "python",
      "name": "python3"
    },
    "language_info": {
      "codemirror_mode": {
        "name": "ipython",
        "version": 3
      },
      "file_extension": ".py",
      "mimetype": "text/x-python",
      "name": "python",
      "nbconvert_exporter": "python",
      "pygments_lexer": "ipython3",
      "version": "3.11.8"
    }
  },
  "nbformat": 4,
  "nbformat_minor": 5
}
